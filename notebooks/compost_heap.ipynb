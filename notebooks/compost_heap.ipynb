{
 "cells": [
  {
   "cell_type": "code",
   "execution_count": null,
   "metadata": {},
   "outputs": [],
   "source": [
    "import random\n",
    "import datetime\n",
    "\n",
    "data = {'datetime' : pd.date_range(start='1/15/2018',\n",
    "                                   end='2/14/2018',\n",
    "                                   freq='D') \\\n",
    "        .append(pd.date_range(start='1/15/2018',\n",
    "                              end='02/14/2018',\n",
    "                              freq='D')),\n",
    "        'house' : ['house1' for i in range(31)] \n",
    "                  + ['house2' for i in range(31)],\n",
    "        'readvalue' : [0.5 + 0.5*np.sin(2*np.pi/30*i) \n",
    "                       for i in range(31)]\\\n",
    "                     + [0.5 + 0.5*np.cos(2*np.pi/30*i) \n",
    "                       for i in range(31)]\n",
    "       }\n",
    "\n",
    "df0 = pd.DataFrame(data, columns = ['readdatetime', \n",
    "                                    'house', \n",
    "                                    'readvalue'])\n",
    "\n",
    "random.seed(42)\n",
    "df0 = df0.drop(random.sample(range(df0.shape[0]),\n",
    "                             k=int(df0.shape[0]/2)))"
   ]
  },
  {
   "cell_type": "code",
   "execution_count": null,
   "metadata": {},
   "outputs": [],
   "source": [
    "df = df0.copy()\n",
    "df['datetime'] = pd.to_datetime(df['datetime'])"
   ]
  },
  {
   "cell_type": "code",
   "execution_count": null,
   "metadata": {},
   "outputs": [],
   "source": [
    "year_means = {year1: value1, \n",
    "              year2: value2}\n",
    "\n",
    "for index, value in sj_df.iteritems():\n",
    "#     for index, value in enumerate(col):\n",
    "    if isnull(value) == True:\n",
    "        value_year = sj_df.year[index]\n",
    "        value = year_means[value_year]\n",
    "        \n",
    "# use apply or map in this case\n",
    "\n",
    "\n",
    "for key, value in sj_df.iteritems():\n",
    "    print(key, value)"
   ]
  },
  {
   "cell_type": "code",
   "execution_count": null,
   "metadata": {},
   "outputs": [],
   "source": [
    "sj_df.loc[np.where(sj_df.weekofyear == 53)]\n",
    "sj_df[130:]"
   ]
  },
  {
   "cell_type": "code",
   "execution_count": null,
   "metadata": {},
   "outputs": [],
   "source": [
    "sj_df_prophet = pd.DataFrame({'ds': sj_df.week_start_date, 'y': sj_df.total_cases})\n",
    "model = Prophet()\n",
    "model.fit(sj_df_prophet)\n",
    "future = model.make_future_dataframe(periods=0)\n",
    "forecast = model.predict(future)\n",
    "fig1 = model.plot(forecast)\n",
    "fig2 = model.plot_components(forecast)"
   ]
  },
  {
   "cell_type": "code",
   "execution_count": null,
   "metadata": {},
   "outputs": [],
   "source": [
    "sj_X = sj_df.iloc[:, 6:]\n",
    "sj_y = sj_df.iloc[:, 0]\n",
    "\n",
    "sj_X_train, sj_X_test, sj_y_train, sj_y_test = train_test_split(sj_X, sj_y, test_size=0.2, random_state=42)\n",
    "\n",
    "mm_scaler = MinMaxScaler()\n",
    "sj_X_train_minmax = mm_scaler.fit_transform(sj_X_train)\n",
    "sj_X_test_minmax = mm_scaler.transform(sj_X_test) # only want to tranform X_test based on fit of X_train\n",
    "\n",
    "iq_X = iq_df.iloc[:, 6:]\n",
    "iq_y = iq_df.iloc[:, 0]\n",
    "\n",
    "iq_X_train, iq_X_test, iq_y_train, iq_y_test = train_test_split(iq_X, iq_y, test_size=0.2, random_state=42)\n",
    "\n",
    "mm_scaler = MinMaxScaler()\n",
    "iq_X_train_minmax = mm_scaler.fit_transform(iq_X_train)\n",
    "iq_X_test_minmax = mm_scaler.transform(iq_X_test) # only want to tranform X_test based on fit of X_train\n",
    "\n"
   ]
  },
  {
   "cell_type": "code",
   "execution_count": null,
   "metadata": {},
   "outputs": [],
   "source": []
  }
 ],
 "metadata": {
  "kernelspec": {
   "display_name": "Python [conda env:metis] *",
   "language": "python",
   "name": "conda-env-metis-py"
  },
  "language_info": {
   "codemirror_mode": {
    "name": "ipython",
    "version": 3
   },
   "file_extension": ".py",
   "mimetype": "text/x-python",
   "name": "python",
   "nbconvert_exporter": "python",
   "pygments_lexer": "ipython3",
   "version": "3.6.8"
  },
  "toc": {
   "base_numbering": 1,
   "nav_menu": {},
   "number_sections": true,
   "sideBar": true,
   "skip_h1_title": false,
   "title_cell": "Table of Contents",
   "title_sidebar": "Contents",
   "toc_cell": false,
   "toc_position": {},
   "toc_section_display": true,
   "toc_window_display": false
  },
  "varInspector": {
   "cols": {
    "lenName": 16,
    "lenType": 16,
    "lenVar": 40
   },
   "kernels_config": {
    "python": {
     "delete_cmd_postfix": "",
     "delete_cmd_prefix": "del ",
     "library": "var_list.py",
     "varRefreshCmd": "print(var_dic_list())"
    },
    "r": {
     "delete_cmd_postfix": ") ",
     "delete_cmd_prefix": "rm(",
     "library": "var_list.r",
     "varRefreshCmd": "cat(var_dic_list()) "
    }
   },
   "types_to_exclude": [
    "module",
    "function",
    "builtin_function_or_method",
    "instance",
    "_Feature"
   ],
   "window_display": false
  }
 },
 "nbformat": 4,
 "nbformat_minor": 2
}
