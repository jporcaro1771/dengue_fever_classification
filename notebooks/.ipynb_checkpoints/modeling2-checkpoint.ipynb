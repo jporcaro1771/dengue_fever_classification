{
 "cells": [
  {
   "cell_type": "code",
   "execution_count": 139,
   "metadata": {
    "ExecuteTime": {
     "end_time": "2019-09-12T14:58:56.415789Z",
     "start_time": "2019-09-12T14:58:56.389056Z"
    }
   },
   "outputs": [
    {
     "ename": "ModuleNotFoundError",
     "evalue": "No module named 'imblearn'",
     "output_type": "error",
     "traceback": [
      "\u001b[0;31m---------------------------------------------------------------------------\u001b[0m",
      "\u001b[0;31mModuleNotFoundError\u001b[0m                       Traceback (most recent call last)",
      "\u001b[0;32m<ipython-input-139-1e5d7f659015>\u001b[0m in \u001b[0;36m<module>\u001b[0;34m()\u001b[0m\n\u001b[1;32m     22\u001b[0m \u001b[0;32mfrom\u001b[0m \u001b[0mxgboost\u001b[0m \u001b[0;32mimport\u001b[0m \u001b[0mXGBClassifier\u001b[0m\u001b[0;34m,\u001b[0m \u001b[0mplot_importance\u001b[0m\u001b[0;34m\u001b[0m\u001b[0;34m\u001b[0m\u001b[0m\n\u001b[1;32m     23\u001b[0m \u001b[0;34m\u001b[0m\u001b[0m\n\u001b[0;32m---> 24\u001b[0;31m \u001b[0;32mfrom\u001b[0m \u001b[0mimblearn\u001b[0m\u001b[0;34m.\u001b[0m\u001b[0mover_sampling\u001b[0m \u001b[0;32mimport\u001b[0m \u001b[0mRandomOverSampler\u001b[0m\u001b[0;34m\u001b[0m\u001b[0;34m\u001b[0m\u001b[0m\n\u001b[0m\u001b[1;32m     25\u001b[0m \u001b[0;34m\u001b[0m\u001b[0m\n",
      "\u001b[0;31mModuleNotFoundError\u001b[0m: No module named 'imblearn'"
     ]
    }
   ],
   "source": [
    "%matplotlib inline\n",
    "%config InlineBackend.figure_formats = ['retina']\n",
    "\n",
    "import numpy as np\n",
    "import pandas as pd\n",
    "import pickle\n",
    "import matplotlib.pyplot as plt\n",
    "import seaborn as sns\n",
    "from ipywidgets import interactive, FloatSlider\n",
    "\n",
    "from sklearn.preprocessing import MinMaxScaler, StandardScaler, LabelEncoder, PolynomialFeatures\n",
    "from sklearn.model_selection import train_test_split, GridSearchCV, cross_val_score, KFold, RandomizedSearchCV\n",
    "from sklearn.linear_model import LogisticRegression, RidgeClassifier\n",
    "from sklearn.neighbors import NearestNeighbors, KNeighborsClassifier\n",
    "from sklearn.naive_bayes import BernoulliNB, MultinomialNB, GaussianNB\n",
    "from sklearn.tree import DecisionTreeClassifier\n",
    "from sklearn.ensemble import RandomForestClassifier, GradientBoostingClassifier, VotingClassifier\n",
    "from sklearn.dummy import DummyClassifier\n",
    "from sklearn.metrics import accuracy_score, confusion_matrix, classification_report, precision_score, recall_score, log_loss, roc_curve, auc\n",
    "from sklearn import svm\n",
    "\n",
    "from xgboost import XGBClassifier, plot_importance\n",
    "\n",
    "from imblearn.over_sampling import RandomOverSampler\n",
    "\n"
   ]
  },
  {
   "cell_type": "code",
   "execution_count": 13,
   "metadata": {
    "ExecuteTime": {
     "end_time": "2019-09-11T17:18:37.910698Z",
     "start_time": "2019-09-11T17:18:37.907058Z"
    }
   },
   "outputs": [],
   "source": [
    "def scores(ytest, predict):\n",
    "    print(\"Recall:  \" + str(recall_score(ytest, predict)))\n",
    "    print(\"Accuracy:  \" + str(accuracy_score(ytest, predict)))\n",
    "    print()\n",
    "    print(confusion_matrix(ytest, predict))"
   ]
  },
  {
   "cell_type": "code",
   "execution_count": 2,
   "metadata": {
    "ExecuteTime": {
     "end_time": "2019-09-11T17:10:24.891276Z",
     "start_time": "2019-09-11T17:10:24.882003Z"
    }
   },
   "outputs": [],
   "source": [
    "with open('sj_df.pickle', 'rb') as read_file:\n",
    "    sj_df = pickle.load(read_file)\n",
    "    \n",
    "with open('iq_df.pickle', 'rb') as read_file:\n",
    "    iq_df = pickle.load(read_file)"
   ]
  },
  {
   "cell_type": "code",
   "execution_count": 3,
   "metadata": {
    "ExecuteTime": {
     "end_time": "2019-09-11T17:10:30.829981Z",
     "start_time": "2019-09-11T17:10:30.827060Z"
    }
   },
   "outputs": [],
   "source": [
    "sj_df['isFallorWinter'] = np.where(sj_df['weekofyear'] >= 35, 1, 0)"
   ]
  },
  {
   "cell_type": "code",
   "execution_count": 116,
   "metadata": {
    "ExecuteTime": {
     "end_time": "2019-09-12T14:45:45.625777Z",
     "start_time": "2019-09-12T14:45:45.621318Z"
    }
   },
   "outputs": [],
   "source": [
    "iq_df['q*Td'] = iq_df['reanalysis_specific_humidity_g_per_kg'] * iq_df['reanalysis_dew_point_temp_k']"
   ]
  },
  {
   "cell_type": "code",
   "execution_count": 4,
   "metadata": {
    "ExecuteTime": {
     "end_time": "2019-09-11T17:10:39.124992Z",
     "start_time": "2019-09-11T17:10:39.099314Z"
    }
   },
   "outputs": [
    {
     "data": {
      "text/html": [
       "<div>\n",
       "<style scoped>\n",
       "    .dataframe tbody tr th:only-of-type {\n",
       "        vertical-align: middle;\n",
       "    }\n",
       "\n",
       "    .dataframe tbody tr th {\n",
       "        vertical-align: top;\n",
       "    }\n",
       "\n",
       "    .dataframe thead th {\n",
       "        text-align: right;\n",
       "    }\n",
       "</style>\n",
       "<table border=\"1\" class=\"dataframe\">\n",
       "  <thead>\n",
       "    <tr style=\"text-align: right;\">\n",
       "      <th></th>\n",
       "      <th>outbreak</th>\n",
       "      <th>city</th>\n",
       "      <th>year</th>\n",
       "      <th>weekofyear</th>\n",
       "      <th>total_cases</th>\n",
       "      <th>week_start_date</th>\n",
       "      <th>ndvi_ne</th>\n",
       "      <th>ndvi_nw</th>\n",
       "      <th>ndvi_se</th>\n",
       "      <th>ndvi_sw</th>\n",
       "      <th>...</th>\n",
       "      <th>reanalysis_relative_humidity_percent</th>\n",
       "      <th>reanalysis_sat_precip_amt_mm</th>\n",
       "      <th>reanalysis_specific_humidity_g_per_kg</th>\n",
       "      <th>reanalysis_tdtr_k</th>\n",
       "      <th>station_avg_temp_c</th>\n",
       "      <th>station_diur_temp_rng_c</th>\n",
       "      <th>station_max_temp_c</th>\n",
       "      <th>station_min_temp_c</th>\n",
       "      <th>station_precip_mm</th>\n",
       "      <th>isFallorWinter</th>\n",
       "    </tr>\n",
       "  </thead>\n",
       "  <tbody>\n",
       "    <tr>\n",
       "      <th>0</th>\n",
       "      <td>0</td>\n",
       "      <td>sj</td>\n",
       "      <td>1990</td>\n",
       "      <td>18</td>\n",
       "      <td>4</td>\n",
       "      <td>1990-04-30</td>\n",
       "      <td>0.122600</td>\n",
       "      <td>0.103725</td>\n",
       "      <td>0.198483</td>\n",
       "      <td>0.177617</td>\n",
       "      <td>...</td>\n",
       "      <td>73.365714</td>\n",
       "      <td>12.42</td>\n",
       "      <td>14.012857</td>\n",
       "      <td>2.628571</td>\n",
       "      <td>25.442857</td>\n",
       "      <td>6.900000</td>\n",
       "      <td>29.4</td>\n",
       "      <td>20.0</td>\n",
       "      <td>16.0</td>\n",
       "      <td>0</td>\n",
       "    </tr>\n",
       "    <tr>\n",
       "      <th>1</th>\n",
       "      <td>0</td>\n",
       "      <td>sj</td>\n",
       "      <td>1990</td>\n",
       "      <td>19</td>\n",
       "      <td>5</td>\n",
       "      <td>1990-05-07</td>\n",
       "      <td>0.169900</td>\n",
       "      <td>0.142175</td>\n",
       "      <td>0.162357</td>\n",
       "      <td>0.155486</td>\n",
       "      <td>...</td>\n",
       "      <td>77.368571</td>\n",
       "      <td>22.82</td>\n",
       "      <td>15.372857</td>\n",
       "      <td>2.371429</td>\n",
       "      <td>26.714286</td>\n",
       "      <td>6.371429</td>\n",
       "      <td>31.7</td>\n",
       "      <td>22.2</td>\n",
       "      <td>8.6</td>\n",
       "      <td>0</td>\n",
       "    </tr>\n",
       "    <tr>\n",
       "      <th>2</th>\n",
       "      <td>0</td>\n",
       "      <td>sj</td>\n",
       "      <td>1990</td>\n",
       "      <td>20</td>\n",
       "      <td>4</td>\n",
       "      <td>1990-05-14</td>\n",
       "      <td>0.032250</td>\n",
       "      <td>0.172967</td>\n",
       "      <td>0.157200</td>\n",
       "      <td>0.170843</td>\n",
       "      <td>...</td>\n",
       "      <td>82.052857</td>\n",
       "      <td>34.54</td>\n",
       "      <td>16.848571</td>\n",
       "      <td>2.300000</td>\n",
       "      <td>26.714286</td>\n",
       "      <td>6.485714</td>\n",
       "      <td>32.2</td>\n",
       "      <td>22.8</td>\n",
       "      <td>41.4</td>\n",
       "      <td>0</td>\n",
       "    </tr>\n",
       "    <tr>\n",
       "      <th>3</th>\n",
       "      <td>0</td>\n",
       "      <td>sj</td>\n",
       "      <td>1990</td>\n",
       "      <td>21</td>\n",
       "      <td>3</td>\n",
       "      <td>1990-05-21</td>\n",
       "      <td>0.128633</td>\n",
       "      <td>0.245067</td>\n",
       "      <td>0.227557</td>\n",
       "      <td>0.235886</td>\n",
       "      <td>...</td>\n",
       "      <td>80.337143</td>\n",
       "      <td>15.36</td>\n",
       "      <td>16.672857</td>\n",
       "      <td>2.428571</td>\n",
       "      <td>27.471429</td>\n",
       "      <td>6.771429</td>\n",
       "      <td>33.3</td>\n",
       "      <td>23.3</td>\n",
       "      <td>4.0</td>\n",
       "      <td>0</td>\n",
       "    </tr>\n",
       "    <tr>\n",
       "      <th>4</th>\n",
       "      <td>0</td>\n",
       "      <td>sj</td>\n",
       "      <td>1990</td>\n",
       "      <td>22</td>\n",
       "      <td>6</td>\n",
       "      <td>1990-05-28</td>\n",
       "      <td>0.196200</td>\n",
       "      <td>0.262200</td>\n",
       "      <td>0.251200</td>\n",
       "      <td>0.247340</td>\n",
       "      <td>...</td>\n",
       "      <td>80.460000</td>\n",
       "      <td>7.52</td>\n",
       "      <td>17.210000</td>\n",
       "      <td>3.014286</td>\n",
       "      <td>28.942857</td>\n",
       "      <td>9.371429</td>\n",
       "      <td>35.0</td>\n",
       "      <td>23.9</td>\n",
       "      <td>5.8</td>\n",
       "      <td>0</td>\n",
       "    </tr>\n",
       "  </tbody>\n",
       "</table>\n",
       "<p>5 rows × 27 columns</p>\n",
       "</div>"
      ],
      "text/plain": [
       "   outbreak city  year  weekofyear  total_cases week_start_date   ndvi_ne  \\\n",
       "0         0   sj  1990          18            4      1990-04-30  0.122600   \n",
       "1         0   sj  1990          19            5      1990-05-07  0.169900   \n",
       "2         0   sj  1990          20            4      1990-05-14  0.032250   \n",
       "3         0   sj  1990          21            3      1990-05-21  0.128633   \n",
       "4         0   sj  1990          22            6      1990-05-28  0.196200   \n",
       "\n",
       "    ndvi_nw   ndvi_se   ndvi_sw  ...  reanalysis_relative_humidity_percent  \\\n",
       "0  0.103725  0.198483  0.177617  ...                             73.365714   \n",
       "1  0.142175  0.162357  0.155486  ...                             77.368571   \n",
       "2  0.172967  0.157200  0.170843  ...                             82.052857   \n",
       "3  0.245067  0.227557  0.235886  ...                             80.337143   \n",
       "4  0.262200  0.251200  0.247340  ...                             80.460000   \n",
       "\n",
       "   reanalysis_sat_precip_amt_mm  reanalysis_specific_humidity_g_per_kg  \\\n",
       "0                         12.42                              14.012857   \n",
       "1                         22.82                              15.372857   \n",
       "2                         34.54                              16.848571   \n",
       "3                         15.36                              16.672857   \n",
       "4                          7.52                              17.210000   \n",
       "\n",
       "   reanalysis_tdtr_k  station_avg_temp_c  station_diur_temp_rng_c  \\\n",
       "0           2.628571           25.442857                 6.900000   \n",
       "1           2.371429           26.714286                 6.371429   \n",
       "2           2.300000           26.714286                 6.485714   \n",
       "3           2.428571           27.471429                 6.771429   \n",
       "4           3.014286           28.942857                 9.371429   \n",
       "\n",
       "   station_max_temp_c  station_min_temp_c  station_precip_mm  isFallorWinter  \n",
       "0                29.4                20.0               16.0               0  \n",
       "1                31.7                22.2                8.6               0  \n",
       "2                32.2                22.8               41.4               0  \n",
       "3                33.3                23.3                4.0               0  \n",
       "4                35.0                23.9                5.8               0  \n",
       "\n",
       "[5 rows x 27 columns]"
      ]
     },
     "execution_count": 4,
     "metadata": {},
     "output_type": "execute_result"
    }
   ],
   "source": [
    "sj_df.head()"
   ]
  },
  {
   "cell_type": "code",
   "execution_count": 6,
   "metadata": {
    "ExecuteTime": {
     "end_time": "2019-09-11T17:11:14.663052Z",
     "start_time": "2019-09-11T17:11:14.657757Z"
    }
   },
   "outputs": [
    {
     "data": {
      "text/plain": [
       "0    495\n",
       "1    441\n",
       "Name: outbreak, dtype: int64"
      ]
     },
     "execution_count": 6,
     "metadata": {},
     "output_type": "execute_result"
    }
   ],
   "source": [
    "sj_df.outbreak.value_counts()"
   ]
  },
  {
   "cell_type": "code",
   "execution_count": 117,
   "metadata": {
    "ExecuteTime": {
     "end_time": "2019-09-12T14:45:50.430078Z",
     "start_time": "2019-09-12T14:45:50.406597Z"
    }
   },
   "outputs": [
    {
     "data": {
      "text/html": [
       "<div>\n",
       "<style scoped>\n",
       "    .dataframe tbody tr th:only-of-type {\n",
       "        vertical-align: middle;\n",
       "    }\n",
       "\n",
       "    .dataframe tbody tr th {\n",
       "        vertical-align: top;\n",
       "    }\n",
       "\n",
       "    .dataframe thead th {\n",
       "        text-align: right;\n",
       "    }\n",
       "</style>\n",
       "<table border=\"1\" class=\"dataframe\">\n",
       "  <thead>\n",
       "    <tr style=\"text-align: right;\">\n",
       "      <th></th>\n",
       "      <th>outbreak</th>\n",
       "      <th>city</th>\n",
       "      <th>year</th>\n",
       "      <th>weekofyear</th>\n",
       "      <th>total_cases</th>\n",
       "      <th>week_start_date</th>\n",
       "      <th>ndvi_ne</th>\n",
       "      <th>ndvi_nw</th>\n",
       "      <th>ndvi_se</th>\n",
       "      <th>ndvi_sw</th>\n",
       "      <th>...</th>\n",
       "      <th>reanalysis_relative_humidity_percent</th>\n",
       "      <th>reanalysis_sat_precip_amt_mm</th>\n",
       "      <th>reanalysis_specific_humidity_g_per_kg</th>\n",
       "      <th>reanalysis_tdtr_k</th>\n",
       "      <th>station_avg_temp_c</th>\n",
       "      <th>station_diur_temp_rng_c</th>\n",
       "      <th>station_max_temp_c</th>\n",
       "      <th>station_min_temp_c</th>\n",
       "      <th>station_precip_mm</th>\n",
       "      <th>q*Td</th>\n",
       "    </tr>\n",
       "  </thead>\n",
       "  <tbody>\n",
       "    <tr>\n",
       "      <th>1008</th>\n",
       "      <td>0</td>\n",
       "      <td>iq</td>\n",
       "      <td>2001</td>\n",
       "      <td>47</td>\n",
       "      <td>1</td>\n",
       "      <td>2001-11-19</td>\n",
       "      <td>0.329700</td>\n",
       "      <td>0.330417</td>\n",
       "      <td>0.340643</td>\n",
       "      <td>0.441571</td>\n",
       "      <td>...</td>\n",
       "      <td>88.837143</td>\n",
       "      <td>65.89</td>\n",
       "      <td>18.451429</td>\n",
       "      <td>9.228571</td>\n",
       "      <td>27.575000</td>\n",
       "      <td>11.575000</td>\n",
       "      <td>33.7</td>\n",
       "      <td>20.8</td>\n",
       "      <td>31.0</td>\n",
       "      <td>5475.514147</td>\n",
       "    </tr>\n",
       "    <tr>\n",
       "      <th>1009</th>\n",
       "      <td>0</td>\n",
       "      <td>iq</td>\n",
       "      <td>2001</td>\n",
       "      <td>48</td>\n",
       "      <td>1</td>\n",
       "      <td>2001-11-26</td>\n",
       "      <td>0.301500</td>\n",
       "      <td>0.361300</td>\n",
       "      <td>0.305571</td>\n",
       "      <td>0.369917</td>\n",
       "      <td>...</td>\n",
       "      <td>87.377143</td>\n",
       "      <td>47.46</td>\n",
       "      <td>17.427143</td>\n",
       "      <td>8.014286</td>\n",
       "      <td>28.233333</td>\n",
       "      <td>11.666667</td>\n",
       "      <td>35.3</td>\n",
       "      <td>21.8</td>\n",
       "      <td>12.2</td>\n",
       "      <td>5155.148024</td>\n",
       "    </tr>\n",
       "    <tr>\n",
       "      <th>1010</th>\n",
       "      <td>0</td>\n",
       "      <td>iq</td>\n",
       "      <td>2001</td>\n",
       "      <td>49</td>\n",
       "      <td>1</td>\n",
       "      <td>2001-12-03</td>\n",
       "      <td>0.325057</td>\n",
       "      <td>0.226471</td>\n",
       "      <td>0.299257</td>\n",
       "      <td>0.350471</td>\n",
       "      <td>...</td>\n",
       "      <td>87.240000</td>\n",
       "      <td>46.86</td>\n",
       "      <td>17.595714</td>\n",
       "      <td>8.871429</td>\n",
       "      <td>28.425000</td>\n",
       "      <td>11.650000</td>\n",
       "      <td>35.5</td>\n",
       "      <td>21.2</td>\n",
       "      <td>23.1</td>\n",
       "      <td>5208.004651</td>\n",
       "    </tr>\n",
       "    <tr>\n",
       "      <th>1011</th>\n",
       "      <td>0</td>\n",
       "      <td>iq</td>\n",
       "      <td>2001</td>\n",
       "      <td>50</td>\n",
       "      <td>2</td>\n",
       "      <td>2001-12-10</td>\n",
       "      <td>0.326033</td>\n",
       "      <td>0.235533</td>\n",
       "      <td>0.315571</td>\n",
       "      <td>0.306643</td>\n",
       "      <td>...</td>\n",
       "      <td>96.118571</td>\n",
       "      <td>138.22</td>\n",
       "      <td>19.305714</td>\n",
       "      <td>7.785714</td>\n",
       "      <td>27.840000</td>\n",
       "      <td>10.960000</td>\n",
       "      <td>35.0</td>\n",
       "      <td>21.0</td>\n",
       "      <td>75.0</td>\n",
       "      <td>5743.450000</td>\n",
       "    </tr>\n",
       "    <tr>\n",
       "      <th>1012</th>\n",
       "      <td>0</td>\n",
       "      <td>iq</td>\n",
       "      <td>2001</td>\n",
       "      <td>51</td>\n",
       "      <td>4</td>\n",
       "      <td>2001-12-17</td>\n",
       "      <td>0.222943</td>\n",
       "      <td>0.224071</td>\n",
       "      <td>0.212814</td>\n",
       "      <td>0.184129</td>\n",
       "      <td>...</td>\n",
       "      <td>93.947143</td>\n",
       "      <td>43.95</td>\n",
       "      <td>18.965714</td>\n",
       "      <td>7.385714</td>\n",
       "      <td>27.075000</td>\n",
       "      <td>9.500000</td>\n",
       "      <td>32.9</td>\n",
       "      <td>21.0</td>\n",
       "      <td>57.9</td>\n",
       "      <td>5636.827037</td>\n",
       "    </tr>\n",
       "  </tbody>\n",
       "</table>\n",
       "<p>5 rows × 27 columns</p>\n",
       "</div>"
      ],
      "text/plain": [
       "      outbreak city  year  weekofyear  total_cases week_start_date   ndvi_ne  \\\n",
       "1008         0   iq  2001          47            1      2001-11-19  0.329700   \n",
       "1009         0   iq  2001          48            1      2001-11-26  0.301500   \n",
       "1010         0   iq  2001          49            1      2001-12-03  0.325057   \n",
       "1011         0   iq  2001          50            2      2001-12-10  0.326033   \n",
       "1012         0   iq  2001          51            4      2001-12-17  0.222943   \n",
       "\n",
       "       ndvi_nw   ndvi_se   ndvi_sw  ...  reanalysis_relative_humidity_percent  \\\n",
       "1008  0.330417  0.340643  0.441571  ...                             88.837143   \n",
       "1009  0.361300  0.305571  0.369917  ...                             87.377143   \n",
       "1010  0.226471  0.299257  0.350471  ...                             87.240000   \n",
       "1011  0.235533  0.315571  0.306643  ...                             96.118571   \n",
       "1012  0.224071  0.212814  0.184129  ...                             93.947143   \n",
       "\n",
       "      reanalysis_sat_precip_amt_mm  reanalysis_specific_humidity_g_per_kg  \\\n",
       "1008                         65.89                              18.451429   \n",
       "1009                         47.46                              17.427143   \n",
       "1010                         46.86                              17.595714   \n",
       "1011                        138.22                              19.305714   \n",
       "1012                         43.95                              18.965714   \n",
       "\n",
       "      reanalysis_tdtr_k  station_avg_temp_c  station_diur_temp_rng_c  \\\n",
       "1008           9.228571           27.575000                11.575000   \n",
       "1009           8.014286           28.233333                11.666667   \n",
       "1010           8.871429           28.425000                11.650000   \n",
       "1011           7.785714           27.840000                10.960000   \n",
       "1012           7.385714           27.075000                 9.500000   \n",
       "\n",
       "      station_max_temp_c  station_min_temp_c  station_precip_mm         q*Td  \n",
       "1008                33.7                20.8               31.0  5475.514147  \n",
       "1009                35.3                21.8               12.2  5155.148024  \n",
       "1010                35.5                21.2               23.1  5208.004651  \n",
       "1011                35.0                21.0               75.0  5743.450000  \n",
       "1012                32.9                21.0               57.9  5636.827037  \n",
       "\n",
       "[5 rows x 27 columns]"
      ]
     },
     "execution_count": 117,
     "metadata": {},
     "output_type": "execute_result"
    }
   ],
   "source": [
    "iq_df.head()"
   ]
  },
  {
   "cell_type": "code",
   "execution_count": 7,
   "metadata": {
    "ExecuteTime": {
     "end_time": "2019-09-11T17:11:22.518594Z",
     "start_time": "2019-09-11T17:11:22.513107Z"
    }
   },
   "outputs": [
    {
     "data": {
      "text/plain": [
       "0    376\n",
       "1     72\n",
       "Name: outbreak, dtype: int64"
      ]
     },
     "execution_count": 7,
     "metadata": {},
     "output_type": "execute_result"
    }
   ],
   "source": [
    "iq_df.outbreak.value_counts()"
   ]
  },
  {
   "cell_type": "code",
   "execution_count": 118,
   "metadata": {
    "ExecuteTime": {
     "end_time": "2019-09-12T14:46:32.839584Z",
     "start_time": "2019-09-12T14:46:32.797362Z"
    }
   },
   "outputs": [],
   "source": [
    "mm_scaler = MinMaxScaler()\n",
    "sj_train, sj_validate, sj_test = np.split(sj_df.sample(frac=1), [int(.6*len(sj_df)), int(.8*len(sj_df))])\n",
    "\n",
    "sj_X_train = sj_train.iloc[:,6:]\n",
    "sj_y_train = sj_train.iloc[:,0]\n",
    "\n",
    "sj_X_val = sj_validate.iloc[:,6:]\n",
    "sj_y_val = sj_validate.iloc[:,0]\n",
    "\n",
    "sj_X_test = sj_test.iloc[:,6:]\n",
    "sj_y_test = sj_test.iloc[:,0]\n",
    "\n",
    "sj_X_train_mm = mm_scaler.fit_transform(sj_X_train)\n",
    "sj_X_val_mm = mm_scaler.fit_transform(sj_X_val)\n",
    "sj_X_test_mm = mm_scaler.fit_transform(sj_X_test)\n",
    "\n",
    "iq_train, iq_validate, iq_test = np.split(iq_df.sample(frac=1), [int(.6*len(iq_df)), int(.8*len(iq_df))])\n",
    "\n",
    "iq_X_train = iq_train.iloc[:,6:]\n",
    "iq_y_train = iq_train.iloc[:,0]\n",
    "\n",
    "iq_X_val = iq_validate.iloc[:,6:]\n",
    "iq_y_val = iq_validate.iloc[:,0]\n",
    "\n",
    "iq_X_test = iq_test.iloc[:,6:]\n",
    "iq_y_test = iq_test.iloc[:,0]\n",
    "\n",
    "iq_X_train_mm = mm_scaler.fit_transform(iq_X_train)\n",
    "iq_X_val_mm = mm_scaler.fit_transform(iq_X_val)\n",
    "iq_X_test_mm = mm_scaler.fit_transform(iq_X_test)"
   ]
  },
  {
   "cell_type": "code",
   "execution_count": 64,
   "metadata": {
    "ExecuteTime": {
     "end_time": "2019-09-11T21:28:51.001482Z",
     "start_time": "2019-09-11T21:28:50.978660Z"
    }
   },
   "outputs": [
    {
     "data": {
      "text/html": [
       "<div>\n",
       "<style scoped>\n",
       "    .dataframe tbody tr th:only-of-type {\n",
       "        vertical-align: middle;\n",
       "    }\n",
       "\n",
       "    .dataframe tbody tr th {\n",
       "        vertical-align: top;\n",
       "    }\n",
       "\n",
       "    .dataframe thead th {\n",
       "        text-align: right;\n",
       "    }\n",
       "</style>\n",
       "<table border=\"1\" class=\"dataframe\">\n",
       "  <thead>\n",
       "    <tr style=\"text-align: right;\">\n",
       "      <th></th>\n",
       "      <th>outbreak</th>\n",
       "      <th>city</th>\n",
       "      <th>year</th>\n",
       "      <th>weekofyear</th>\n",
       "      <th>total_cases</th>\n",
       "      <th>week_start_date</th>\n",
       "      <th>ndvi_ne</th>\n",
       "      <th>ndvi_nw</th>\n",
       "      <th>ndvi_se</th>\n",
       "      <th>ndvi_sw</th>\n",
       "      <th>...</th>\n",
       "      <th>reanalysis_relative_humidity_percent</th>\n",
       "      <th>reanalysis_sat_precip_amt_mm</th>\n",
       "      <th>reanalysis_specific_humidity_g_per_kg</th>\n",
       "      <th>reanalysis_tdtr_k</th>\n",
       "      <th>station_avg_temp_c</th>\n",
       "      <th>station_diur_temp_rng_c</th>\n",
       "      <th>station_max_temp_c</th>\n",
       "      <th>station_min_temp_c</th>\n",
       "      <th>station_precip_mm</th>\n",
       "      <th>isFallorWinter</th>\n",
       "    </tr>\n",
       "  </thead>\n",
       "  <tbody>\n",
       "    <tr>\n",
       "      <th>279</th>\n",
       "      <td>1</td>\n",
       "      <td>sj</td>\n",
       "      <td>1995</td>\n",
       "      <td>36</td>\n",
       "      <td>40</td>\n",
       "      <td>1995-09-10</td>\n",
       "      <td>0.107100</td>\n",
       "      <td>0.183600</td>\n",
       "      <td>0.185150</td>\n",
       "      <td>0.169957</td>\n",
       "      <td>...</td>\n",
       "      <td>78.145714</td>\n",
       "      <td>20.23</td>\n",
       "      <td>18.545714</td>\n",
       "      <td>3.700000</td>\n",
       "      <td>29.571429</td>\n",
       "      <td>7.914286</td>\n",
       "      <td>34.4</td>\n",
       "      <td>23.9</td>\n",
       "      <td>20.4</td>\n",
       "      <td>1</td>\n",
       "    </tr>\n",
       "    <tr>\n",
       "      <th>1</th>\n",
       "      <td>0</td>\n",
       "      <td>sj</td>\n",
       "      <td>1990</td>\n",
       "      <td>19</td>\n",
       "      <td>5</td>\n",
       "      <td>1990-05-07</td>\n",
       "      <td>0.169900</td>\n",
       "      <td>0.142175</td>\n",
       "      <td>0.162357</td>\n",
       "      <td>0.155486</td>\n",
       "      <td>...</td>\n",
       "      <td>77.368571</td>\n",
       "      <td>22.82</td>\n",
       "      <td>15.372857</td>\n",
       "      <td>2.371429</td>\n",
       "      <td>26.714286</td>\n",
       "      <td>6.371429</td>\n",
       "      <td>31.7</td>\n",
       "      <td>22.2</td>\n",
       "      <td>8.6</td>\n",
       "      <td>0</td>\n",
       "    </tr>\n",
       "    <tr>\n",
       "      <th>290</th>\n",
       "      <td>0</td>\n",
       "      <td>sj</td>\n",
       "      <td>1995</td>\n",
       "      <td>47</td>\n",
       "      <td>19</td>\n",
       "      <td>1995-11-26</td>\n",
       "      <td>0.033400</td>\n",
       "      <td>0.114867</td>\n",
       "      <td>0.240014</td>\n",
       "      <td>0.254900</td>\n",
       "      <td>...</td>\n",
       "      <td>78.141429</td>\n",
       "      <td>90.49</td>\n",
       "      <td>16.541429</td>\n",
       "      <td>2.228571</td>\n",
       "      <td>27.314286</td>\n",
       "      <td>7.314286</td>\n",
       "      <td>32.2</td>\n",
       "      <td>22.8</td>\n",
       "      <td>5.9</td>\n",
       "      <td>1</td>\n",
       "    </tr>\n",
       "    <tr>\n",
       "      <th>557</th>\n",
       "      <td>0</td>\n",
       "      <td>sj</td>\n",
       "      <td>2001</td>\n",
       "      <td>3</td>\n",
       "      <td>17</td>\n",
       "      <td>2001-01-15</td>\n",
       "      <td>0.067733</td>\n",
       "      <td>0.021650</td>\n",
       "      <td>0.185850</td>\n",
       "      <td>0.179686</td>\n",
       "      <td>...</td>\n",
       "      <td>71.941429</td>\n",
       "      <td>0.00</td>\n",
       "      <td>13.921429</td>\n",
       "      <td>3.414286</td>\n",
       "      <td>25.071429</td>\n",
       "      <td>8.157143</td>\n",
       "      <td>30.6</td>\n",
       "      <td>19.4</td>\n",
       "      <td>4.8</td>\n",
       "      <td>0</td>\n",
       "    </tr>\n",
       "    <tr>\n",
       "      <th>436</th>\n",
       "      <td>1</td>\n",
       "      <td>sj</td>\n",
       "      <td>1998</td>\n",
       "      <td>38</td>\n",
       "      <td>54</td>\n",
       "      <td>1998-09-17</td>\n",
       "      <td>0.062750</td>\n",
       "      <td>0.040100</td>\n",
       "      <td>0.155483</td>\n",
       "      <td>0.141480</td>\n",
       "      <td>...</td>\n",
       "      <td>82.332857</td>\n",
       "      <td>35.03</td>\n",
       "      <td>18.847143</td>\n",
       "      <td>2.185714</td>\n",
       "      <td>28.728571</td>\n",
       "      <td>6.985714</td>\n",
       "      <td>34.4</td>\n",
       "      <td>24.4</td>\n",
       "      <td>39.7</td>\n",
       "      <td>1</td>\n",
       "    </tr>\n",
       "  </tbody>\n",
       "</table>\n",
       "<p>5 rows × 27 columns</p>\n",
       "</div>"
      ],
      "text/plain": [
       "     outbreak city  year  weekofyear  total_cases week_start_date   ndvi_ne  \\\n",
       "279         1   sj  1995          36           40      1995-09-10  0.107100   \n",
       "1           0   sj  1990          19            5      1990-05-07  0.169900   \n",
       "290         0   sj  1995          47           19      1995-11-26  0.033400   \n",
       "557         0   sj  2001           3           17      2001-01-15  0.067733   \n",
       "436         1   sj  1998          38           54      1998-09-17  0.062750   \n",
       "\n",
       "      ndvi_nw   ndvi_se   ndvi_sw  ...  reanalysis_relative_humidity_percent  \\\n",
       "279  0.183600  0.185150  0.169957  ...                             78.145714   \n",
       "1    0.142175  0.162357  0.155486  ...                             77.368571   \n",
       "290  0.114867  0.240014  0.254900  ...                             78.141429   \n",
       "557  0.021650  0.185850  0.179686  ...                             71.941429   \n",
       "436  0.040100  0.155483  0.141480  ...                             82.332857   \n",
       "\n",
       "     reanalysis_sat_precip_amt_mm  reanalysis_specific_humidity_g_per_kg  \\\n",
       "279                         20.23                              18.545714   \n",
       "1                           22.82                              15.372857   \n",
       "290                         90.49                              16.541429   \n",
       "557                          0.00                              13.921429   \n",
       "436                         35.03                              18.847143   \n",
       "\n",
       "     reanalysis_tdtr_k  station_avg_temp_c  station_diur_temp_rng_c  \\\n",
       "279           3.700000           29.571429                 7.914286   \n",
       "1             2.371429           26.714286                 6.371429   \n",
       "290           2.228571           27.314286                 7.314286   \n",
       "557           3.414286           25.071429                 8.157143   \n",
       "436           2.185714           28.728571                 6.985714   \n",
       "\n",
       "     station_max_temp_c  station_min_temp_c  station_precip_mm  isFallorWinter  \n",
       "279                34.4                23.9               20.4               1  \n",
       "1                  31.7                22.2                8.6               0  \n",
       "290                32.2                22.8                5.9               1  \n",
       "557                30.6                19.4                4.8               0  \n",
       "436                34.4                24.4               39.7               1  \n",
       "\n",
       "[5 rows x 27 columns]"
      ]
     },
     "execution_count": 64,
     "metadata": {},
     "output_type": "execute_result"
    }
   ],
   "source": [
    "sj_train.head()"
   ]
  },
  {
   "cell_type": "code",
   "execution_count": null,
   "metadata": {},
   "outputs": [],
   "source": []
  },
  {
   "cell_type": "code",
   "execution_count": null,
   "metadata": {},
   "outputs": [],
   "source": []
  },
  {
   "cell_type": "code",
   "execution_count": 59,
   "metadata": {
    "ExecuteTime": {
     "end_time": "2019-09-11T21:25:20.761422Z",
     "start_time": "2019-09-11T21:25:20.753772Z"
    }
   },
   "outputs": [
    {
     "name": "stderr",
     "output_type": "stream",
     "text": [
      "/Users/joelporcaro/anaconda3/envs/metis/lib/python3.6/site-packages/sklearn/linear_model/logistic.py:432: FutureWarning: Default solver will be changed to 'lbfgs' in 0.22. Specify a solver to silence this warning.\n",
      "  FutureWarning)\n"
     ]
    }
   ],
   "source": [
    "logit_sj = LogisticRegression(C=100, penalty='l2')\n",
    "logit_sj_fit = logit_sj.fit(sj_X_train_mm, sj_y_train)\n",
    "logit_sj_predict = logit_sj_fit.predict(sj_X_val_mm)"
   ]
  },
  {
   "cell_type": "code",
   "execution_count": 60,
   "metadata": {
    "ExecuteTime": {
     "end_time": "2019-09-11T21:25:21.730741Z",
     "start_time": "2019-09-11T21:25:21.707616Z"
    }
   },
   "outputs": [
    {
     "name": "stdout",
     "output_type": "stream",
     "text": [
      "0.645290771175727\n"
     ]
    },
    {
     "name": "stderr",
     "output_type": "stream",
     "text": [
      "/Users/joelporcaro/anaconda3/envs/metis/lib/python3.6/site-packages/sklearn/linear_model/logistic.py:432: FutureWarning: Default solver will be changed to 'lbfgs' in 0.22. Specify a solver to silence this warning.\n",
      "  FutureWarning)\n",
      "/Users/joelporcaro/anaconda3/envs/metis/lib/python3.6/site-packages/sklearn/linear_model/logistic.py:432: FutureWarning: Default solver will be changed to 'lbfgs' in 0.22. Specify a solver to silence this warning.\n",
      "  FutureWarning)\n",
      "/Users/joelporcaro/anaconda3/envs/metis/lib/python3.6/site-packages/sklearn/linear_model/logistic.py:432: FutureWarning: Default solver will be changed to 'lbfgs' in 0.22. Specify a solver to silence this warning.\n",
      "  FutureWarning)\n",
      "/Users/joelporcaro/anaconda3/envs/metis/lib/python3.6/site-packages/sklearn/linear_model/logistic.py:432: FutureWarning: Default solver will be changed to 'lbfgs' in 0.22. Specify a solver to silence this warning.\n",
      "  FutureWarning)\n",
      "/Users/joelporcaro/anaconda3/envs/metis/lib/python3.6/site-packages/sklearn/linear_model/logistic.py:432: FutureWarning: Default solver will be changed to 'lbfgs' in 0.22. Specify a solver to silence this warning.\n",
      "  FutureWarning)\n"
     ]
    }
   ],
   "source": [
    "kf = KFold(n_splits=5, shuffle=True, random_state=42)\n",
    "print(np.mean(cross_val_score(logit_sj, sj_X_train_mm, sj_y_train, cv=kf)))"
   ]
  },
  {
   "cell_type": "code",
   "execution_count": 61,
   "metadata": {
    "ExecuteTime": {
     "end_time": "2019-09-11T21:25:22.651206Z",
     "start_time": "2019-09-11T21:25:22.645682Z"
    }
   },
   "outputs": [
    {
     "name": "stdout",
     "output_type": "stream",
     "text": [
      "Recall:  0.7674418604651163\n",
      "Accuracy:  0.6203208556149733\n",
      "\n",
      "[[50 51]\n",
      " [20 66]]\n"
     ]
    }
   ],
   "source": [
    "scores(sj_y_val, logit_sj_predict)"
   ]
  },
  {
   "cell_type": "code",
   "execution_count": 44,
   "metadata": {
    "ExecuteTime": {
     "end_time": "2019-09-11T20:39:15.393490Z",
     "start_time": "2019-09-11T20:39:15.387804Z"
    }
   },
   "outputs": [],
   "source": [
    "def make_confusion_matrix(model, X_test, y_test, threshold=0.5):\n",
    "    # Predict class 1 if probability of being in class 1 is greater than threshold\n",
    "    # (model.predict(X_test) does this automatically with a threshold of 0.5)\n",
    "    y_predict = (model.predict_proba(X_test)[:, 1] >= threshold)\n",
    "    fraud_confusion = confusion_matrix(y_test, y_predict)\n",
    "    plt.figure(dpi=80)\n",
    "    sns.heatmap(fraud_confusion, cmap=plt.cm.Blues, annot=True, square=True, fmt='d',\n",
    "           xticklabels=['healthy', 'outbreak'],\n",
    "           yticklabels=['healthy', 'outbreak']);\n",
    "    plt.xlabel('prediction')\n",
    "    plt.ylabel('actual')"
   ]
  },
  {
   "cell_type": "code",
   "execution_count": 63,
   "metadata": {
    "ExecuteTime": {
     "end_time": "2019-09-11T21:26:33.513051Z",
     "start_time": "2019-09-11T21:26:33.340385Z"
    }
   },
   "outputs": [
    {
     "data": {
      "application/vnd.jupyter.widget-view+json": {
       "model_id": "c1d1ea2e555748679eb9c80ad835c998",
       "version_major": 2,
       "version_minor": 0
      },
      "text/plain": [
       "interactive(children=(FloatSlider(value=0.5, description='threshold', max=1.0, step=0.02), Output()), _dom_cla…"
      ]
     },
     "metadata": {},
     "output_type": "display_data"
    }
   ],
   "source": [
    "interactive(lambda threshold: make_confusion_matrix(logit_sj, sj_X_val_mm, sj_y_val, threshold), threshold=(0.0,1.0,0.02))"
   ]
  },
  {
   "cell_type": "code",
   "execution_count": 85,
   "metadata": {
    "ExecuteTime": {
     "end_time": "2019-09-11T21:53:20.179622Z",
     "start_time": "2019-09-11T21:53:20.176581Z"
    }
   },
   "outputs": [],
   "source": [
    "sj_predictions = logit_sj_fit.predict_proba(sj_X_test_mm)[:,1]\n",
    "sj_predict_final = np.where(sj_predictions > 0.3, 1, 0)"
   ]
  },
  {
   "cell_type": "code",
   "execution_count": 86,
   "metadata": {
    "ExecuteTime": {
     "end_time": "2019-09-11T21:53:21.163399Z",
     "start_time": "2019-09-11T21:53:21.157140Z"
    }
   },
   "outputs": [
    {
     "name": "stdout",
     "output_type": "stream",
     "text": [
      "Recall:  0.8607594936708861\n",
      "Accuracy:  0.601063829787234\n",
      "\n",
      "[[45 64]\n",
      " [11 68]]\n"
     ]
    }
   ],
   "source": [
    "scores(sj_y_test, sj_predict_final)"
   ]
  },
  {
   "cell_type": "code",
   "execution_count": null,
   "metadata": {
    "ExecuteTime": {
     "end_time": "2019-09-11T21:48:01.969537Z",
     "start_time": "2019-09-11T21:48:01.963325Z"
    }
   },
   "outputs": [],
   "source": []
  },
  {
   "cell_type": "code",
   "execution_count": null,
   "metadata": {
    "ExecuteTime": {
     "end_time": "2019-09-11T21:46:50.837440Z",
     "start_time": "2019-09-11T21:46:50.832469Z"
    }
   },
   "outputs": [],
   "source": []
  },
  {
   "cell_type": "code",
   "execution_count": null,
   "metadata": {},
   "outputs": [],
   "source": []
  },
  {
   "cell_type": "code",
   "execution_count": 123,
   "metadata": {
    "ExecuteTime": {
     "end_time": "2019-09-12T14:51:03.355518Z",
     "start_time": "2019-09-12T14:51:03.332313Z"
    }
   },
   "outputs": [
    {
     "data": {
      "text/html": [
       "<div>\n",
       "<style scoped>\n",
       "    .dataframe tbody tr th:only-of-type {\n",
       "        vertical-align: middle;\n",
       "    }\n",
       "\n",
       "    .dataframe tbody tr th {\n",
       "        vertical-align: top;\n",
       "    }\n",
       "\n",
       "    .dataframe thead th {\n",
       "        text-align: right;\n",
       "    }\n",
       "</style>\n",
       "<table border=\"1\" class=\"dataframe\">\n",
       "  <thead>\n",
       "    <tr style=\"text-align: right;\">\n",
       "      <th></th>\n",
       "      <th>index</th>\n",
       "      <th>ndvi_ne</th>\n",
       "      <th>ndvi_nw</th>\n",
       "      <th>ndvi_se</th>\n",
       "      <th>ndvi_sw</th>\n",
       "      <th>precipitation_amt_mm</th>\n",
       "      <th>reanalysis_air_temp_k</th>\n",
       "      <th>reanalysis_avg_temp_k</th>\n",
       "      <th>reanalysis_dew_point_temp_k</th>\n",
       "      <th>reanalysis_max_air_temp_k</th>\n",
       "      <th>...</th>\n",
       "      <th>reanalysis_relative_humidity_percent</th>\n",
       "      <th>reanalysis_sat_precip_amt_mm</th>\n",
       "      <th>reanalysis_specific_humidity_g_per_kg</th>\n",
       "      <th>reanalysis_tdtr_k</th>\n",
       "      <th>station_avg_temp_c</th>\n",
       "      <th>station_diur_temp_rng_c</th>\n",
       "      <th>station_max_temp_c</th>\n",
       "      <th>station_min_temp_c</th>\n",
       "      <th>station_precip_mm</th>\n",
       "      <th>q*Td</th>\n",
       "    </tr>\n",
       "  </thead>\n",
       "  <tbody>\n",
       "    <tr>\n",
       "      <th>0</th>\n",
       "      <td>1243</td>\n",
       "      <td>0.206514</td>\n",
       "      <td>0.117143</td>\n",
       "      <td>0.169271</td>\n",
       "      <td>0.170071</td>\n",
       "      <td>91.40</td>\n",
       "      <td>297.992857</td>\n",
       "      <td>299.114286</td>\n",
       "      <td>293.777143</td>\n",
       "      <td>307.7</td>\n",
       "      <td>...</td>\n",
       "      <td>80.385714</td>\n",
       "      <td>91.40</td>\n",
       "      <td>15.460000</td>\n",
       "      <td>10.885714</td>\n",
       "      <td>27.466667</td>\n",
       "      <td>10.433333</td>\n",
       "      <td>34.0</td>\n",
       "      <td>21.7</td>\n",
       "      <td>83.0</td>\n",
       "      <td>4541.794629</td>\n",
       "    </tr>\n",
       "    <tr>\n",
       "      <th>1</th>\n",
       "      <td>1039</td>\n",
       "      <td>0.179171</td>\n",
       "      <td>0.279100</td>\n",
       "      <td>0.132614</td>\n",
       "      <td>0.213286</td>\n",
       "      <td>3.18</td>\n",
       "      <td>295.808571</td>\n",
       "      <td>296.907143</td>\n",
       "      <td>292.147143</td>\n",
       "      <td>305.3</td>\n",
       "      <td>...</td>\n",
       "      <td>82.167143</td>\n",
       "      <td>3.18</td>\n",
       "      <td>13.870000</td>\n",
       "      <td>10.728571</td>\n",
       "      <td>26.150000</td>\n",
       "      <td>10.800000</td>\n",
       "      <td>32.6</td>\n",
       "      <td>18.6</td>\n",
       "      <td>7.1</td>\n",
       "      <td>4052.080871</td>\n",
       "    </tr>\n",
       "    <tr>\n",
       "      <th>2</th>\n",
       "      <td>1032</td>\n",
       "      <td>0.227257</td>\n",
       "      <td>0.178243</td>\n",
       "      <td>0.177386</td>\n",
       "      <td>0.210114</td>\n",
       "      <td>101.30</td>\n",
       "      <td>297.355714</td>\n",
       "      <td>298.435714</td>\n",
       "      <td>296.444286</td>\n",
       "      <td>304.4</td>\n",
       "      <td>...</td>\n",
       "      <td>95.220000</td>\n",
       "      <td>101.30</td>\n",
       "      <td>18.024286</td>\n",
       "      <td>8.042857</td>\n",
       "      <td>27.500000</td>\n",
       "      <td>11.525000</td>\n",
       "      <td>34.0</td>\n",
       "      <td>21.3</td>\n",
       "      <td>25.4</td>\n",
       "      <td>5343.196504</td>\n",
       "    </tr>\n",
       "    <tr>\n",
       "      <th>3</th>\n",
       "      <td>1216</td>\n",
       "      <td>0.442429</td>\n",
       "      <td>0.348171</td>\n",
       "      <td>0.343071</td>\n",
       "      <td>0.473143</td>\n",
       "      <td>49.87</td>\n",
       "      <td>298.310000</td>\n",
       "      <td>300.092857</td>\n",
       "      <td>296.895714</td>\n",
       "      <td>307.2</td>\n",
       "      <td>...</td>\n",
       "      <td>93.177143</td>\n",
       "      <td>49.87</td>\n",
       "      <td>18.582857</td>\n",
       "      <td>8.557143</td>\n",
       "      <td>27.600000</td>\n",
       "      <td>10.150000</td>\n",
       "      <td>34.5</td>\n",
       "      <td>21.5</td>\n",
       "      <td>139.5</td>\n",
       "      <td>5517.170645</td>\n",
       "    </tr>\n",
       "    <tr>\n",
       "      <th>4</th>\n",
       "      <td>1405</td>\n",
       "      <td>0.385914</td>\n",
       "      <td>0.290383</td>\n",
       "      <td>0.336429</td>\n",
       "      <td>0.292786</td>\n",
       "      <td>91.40</td>\n",
       "      <td>296.065714</td>\n",
       "      <td>296.992857</td>\n",
       "      <td>295.167143</td>\n",
       "      <td>306.2</td>\n",
       "      <td>...</td>\n",
       "      <td>95.385714</td>\n",
       "      <td>91.40</td>\n",
       "      <td>16.680000</td>\n",
       "      <td>8.128571</td>\n",
       "      <td>27.600000</td>\n",
       "      <td>10.766667</td>\n",
       "      <td>33.4</td>\n",
       "      <td>21.6</td>\n",
       "      <td>2.0</td>\n",
       "      <td>4923.387943</td>\n",
       "    </tr>\n",
       "  </tbody>\n",
       "</table>\n",
       "<p>5 rows × 22 columns</p>\n",
       "</div>"
      ],
      "text/plain": [
       "   index   ndvi_ne   ndvi_nw   ndvi_se   ndvi_sw  precipitation_amt_mm  \\\n",
       "0   1243  0.206514  0.117143  0.169271  0.170071                 91.40   \n",
       "1   1039  0.179171  0.279100  0.132614  0.213286                  3.18   \n",
       "2   1032  0.227257  0.178243  0.177386  0.210114                101.30   \n",
       "3   1216  0.442429  0.348171  0.343071  0.473143                 49.87   \n",
       "4   1405  0.385914  0.290383  0.336429  0.292786                 91.40   \n",
       "\n",
       "   reanalysis_air_temp_k  reanalysis_avg_temp_k  reanalysis_dew_point_temp_k  \\\n",
       "0             297.992857             299.114286                   293.777143   \n",
       "1             295.808571             296.907143                   292.147143   \n",
       "2             297.355714             298.435714                   296.444286   \n",
       "3             298.310000             300.092857                   296.895714   \n",
       "4             296.065714             296.992857                   295.167143   \n",
       "\n",
       "   reanalysis_max_air_temp_k  ...  reanalysis_relative_humidity_percent  \\\n",
       "0                      307.7  ...                             80.385714   \n",
       "1                      305.3  ...                             82.167143   \n",
       "2                      304.4  ...                             95.220000   \n",
       "3                      307.2  ...                             93.177143   \n",
       "4                      306.2  ...                             95.385714   \n",
       "\n",
       "   reanalysis_sat_precip_amt_mm  reanalysis_specific_humidity_g_per_kg  \\\n",
       "0                         91.40                              15.460000   \n",
       "1                          3.18                              13.870000   \n",
       "2                        101.30                              18.024286   \n",
       "3                         49.87                              18.582857   \n",
       "4                         91.40                              16.680000   \n",
       "\n",
       "   reanalysis_tdtr_k  station_avg_temp_c  station_diur_temp_rng_c  \\\n",
       "0          10.885714           27.466667                10.433333   \n",
       "1          10.728571           26.150000                10.800000   \n",
       "2           8.042857           27.500000                11.525000   \n",
       "3           8.557143           27.600000                10.150000   \n",
       "4           8.128571           27.600000                10.766667   \n",
       "\n",
       "   station_max_temp_c  station_min_temp_c  station_precip_mm         q*Td  \n",
       "0                34.0                21.7               83.0  4541.794629  \n",
       "1                32.6                18.6                7.1  4052.080871  \n",
       "2                34.0                21.3               25.4  5343.196504  \n",
       "3                34.5                21.5              139.5  5517.170645  \n",
       "4                33.4                21.6                2.0  4923.387943  \n",
       "\n",
       "[5 rows x 22 columns]"
      ]
     },
     "execution_count": 123,
     "metadata": {},
     "output_type": "execute_result"
    }
   ],
   "source": [
    "iq_X_train.reset_index().head()"
   ]
  },
  {
   "cell_type": "code",
   "execution_count": 132,
   "metadata": {
    "ExecuteTime": {
     "end_time": "2019-09-12T14:54:55.353245Z",
     "start_time": "2019-09-12T14:54:55.349929Z"
    }
   },
   "outputs": [
    {
     "data": {
      "text/plain": [
       "{'n_estimators': 400, 'min_samples_split': 10, 'min_samples_leaf': 4, 'max_features': 'auto', 'max_depth': 70, 'bootstrap': True}"
      ]
     },
     "execution_count": 132,
     "metadata": {},
     "output_type": "execute_result"
    }
   ],
   "source": [
    "rf_random.best_params_"
   ]
  },
  {
   "cell_type": "code",
   "execution_count": 134,
   "metadata": {
    "ExecuteTime": {
     "end_time": "2019-09-12T14:56:20.804470Z",
     "start_time": "2019-09-12T14:56:20.491359Z"
    }
   },
   "outputs": [],
   "source": [
    "rf_iq = RandomForestClassifier(n_estimators=400, min_samples_split=10, min_samples_leaf=4, \n",
    "                               max_features='auto', max_depth=70, bootstrap=True)\n",
    "rf_iq_fit = rf_iq.fit(iq_X_train_mm, iq_y_train)\n",
    "rf_iq_predict = rf_iq_fit.predict(iq_X_val_mm)"
   ]
  },
  {
   "cell_type": "code",
   "execution_count": 135,
   "metadata": {
    "ExecuteTime": {
     "end_time": "2019-09-12T14:56:23.761144Z",
     "start_time": "2019-09-12T14:56:22.381953Z"
    }
   },
   "outputs": [
    {
     "name": "stdout",
     "output_type": "stream",
     "text": [
      "0.820754716981132\n"
     ]
    }
   ],
   "source": [
    "kf = KFold(n_splits=5, shuffle=True, random_state=42)\n",
    "print(np.mean(cross_val_score(rf_iq, iq_X_train_mm, iq_y_train, cv=kf)))"
   ]
  },
  {
   "cell_type": "code",
   "execution_count": 136,
   "metadata": {
    "ExecuteTime": {
     "end_time": "2019-09-12T14:56:25.289739Z",
     "start_time": "2019-09-12T14:56:25.283625Z"
    }
   },
   "outputs": [
    {
     "name": "stdout",
     "output_type": "stream",
     "text": [
      "Recall:  0.0\n",
      "Accuracy:  0.8888888888888888\n",
      "\n",
      "[[80  0]\n",
      " [10  0]]\n"
     ]
    }
   ],
   "source": [
    "scores(iq_y_val, rf_iq_predict)"
   ]
  },
  {
   "cell_type": "code",
   "execution_count": 137,
   "metadata": {
    "ExecuteTime": {
     "end_time": "2019-09-12T14:56:29.167726Z",
     "start_time": "2019-09-12T14:56:28.956671Z"
    }
   },
   "outputs": [
    {
     "data": {
      "application/vnd.jupyter.widget-view+json": {
       "model_id": "15ecb626ae744487ad6ea52368eca10e",
       "version_major": 2,
       "version_minor": 0
      },
      "text/plain": [
       "interactive(children=(FloatSlider(value=0.5, description='threshold', max=1.0, step=0.02), Output()), _dom_cla…"
      ]
     },
     "metadata": {},
     "output_type": "display_data"
    }
   ],
   "source": [
    "interactive(lambda threshold: make_confusion_matrix(rf_iq, iq_X_val_mm, iq_y_val, threshold), threshold=(0.0,1.0,0.02))"
   ]
  },
  {
   "cell_type": "code",
   "execution_count": 138,
   "metadata": {
    "ExecuteTime": {
     "end_time": "2019-09-12T14:57:46.486192Z",
     "start_time": "2019-09-12T14:57:46.481080Z"
    }
   },
   "outputs": [
    {
     "data": {
      "text/plain": [
       "0    220\n",
       "1     48\n",
       "Name: outbreak, dtype: int64"
      ]
     },
     "execution_count": 138,
     "metadata": {},
     "output_type": "execute_result"
    }
   ],
   "source": [
    "iq_y_train.value_counts()"
   ]
  },
  {
   "cell_type": "code",
   "execution_count": 128,
   "metadata": {
    "ExecuteTime": {
     "end_time": "2019-09-12T14:52:39.786760Z",
     "start_time": "2019-09-12T14:52:39.777924Z"
    }
   },
   "outputs": [],
   "source": [
    "rf = RandomForestClassifier()\n",
    "# Number of trees in random forest\n",
    "n_estimators = [int(x) for x in np.linspace(start = 200, stop = 2000, num = 10)]\n",
    "# Number of features to consider at every split\n",
    "max_features = ['auto', 'sqrt']\n",
    "# Maximum number of levels in tree\n",
    "max_depth = [int(x) for x in np.linspace(10, 110, num = 11)]\n",
    "max_depth.append(None)\n",
    "# Minimum number of samples required to split a node\n",
    "min_samples_split = [2, 5, 10]\n",
    "# Minimum number of samples required at each leaf node\n",
    "min_samples_leaf = [1, 2, 4]\n",
    "# Method of selecting samples for training each tree\n",
    "bootstrap = [True, False]\n",
    "# Create the random grid\n",
    "random_grid = {'n_estimators': n_estimators,\n",
    "               'max_features': max_features,\n",
    "               'max_depth': max_depth,\n",
    "               'min_samples_split': min_samples_split,\n",
    "               'min_samples_leaf': min_samples_leaf,\n",
    "               'bootstrap': bootstrap}"
   ]
  },
  {
   "cell_type": "code",
   "execution_count": 129,
   "metadata": {
    "ExecuteTime": {
     "end_time": "2019-09-12T14:52:41.431025Z",
     "start_time": "2019-09-12T14:52:41.428875Z"
    }
   },
   "outputs": [],
   "source": [
    "rf_random = RandomizedSearchCV(estimator = rf, param_distributions = random_grid, \n",
    "                               n_iter = 100, cv = 3, verbose=2, random_state=42, n_jobs = -1)"
   ]
  },
  {
   "cell_type": "code",
   "execution_count": 130,
   "metadata": {
    "ExecuteTime": {
     "end_time": "2019-09-12T14:53:58.974526Z",
     "start_time": "2019-09-12T14:53:07.384279Z"
    }
   },
   "outputs": [
    {
     "name": "stdout",
     "output_type": "stream",
     "text": [
      "Fitting 3 folds for each of 100 candidates, totalling 300 fits\n"
     ]
    },
    {
     "name": "stderr",
     "output_type": "stream",
     "text": [
      "[Parallel(n_jobs=-1)]: Using backend LokyBackend with 12 concurrent workers.\n",
      "[Parallel(n_jobs=-1)]: Done  17 tasks      | elapsed:    6.0s\n",
      "[Parallel(n_jobs=-1)]: Done 138 tasks      | elapsed:   24.1s\n",
      "[Parallel(n_jobs=-1)]: Done 300 out of 300 | elapsed:   51.2s finished\n"
     ]
    },
    {
     "data": {
      "text/plain": [
       "RandomizedSearchCV(cv=3, error_score='raise-deprecating',\n",
       "                   estimator=RandomForestClassifier(bootstrap=True,\n",
       "                                                    class_weight=None,\n",
       "                                                    criterion='gini',\n",
       "                                                    max_depth=None,\n",
       "                                                    max_features='auto',\n",
       "                                                    max_leaf_nodes=None,\n",
       "                                                    min_impurity_decrease=0.0,\n",
       "                                                    min_impurity_split=None,\n",
       "                                                    min_samples_leaf=1,\n",
       "                                                    min_samples_split=2,\n",
       "                                                    min_weight_fraction_leaf=0.0,\n",
       "                                                    n_estimators='warn',\n",
       "                                                    n_jobs=None,\n",
       "                                                    oob_sc...\n",
       "                   param_distributions={'bootstrap': [True, False],\n",
       "                                        'max_depth': [10, 20, 30, 40, 50, 60,\n",
       "                                                      70, 80, 90, 100, 110,\n",
       "                                                      None],\n",
       "                                        'max_features': ['auto', 'sqrt'],\n",
       "                                        'min_samples_leaf': [1, 2, 4],\n",
       "                                        'min_samples_split': [2, 5, 10],\n",
       "                                        'n_estimators': [200, 400, 600, 800,\n",
       "                                                         1000, 1200, 1400, 1600,\n",
       "                                                         1800, 2000]},\n",
       "                   pre_dispatch='2*n_jobs', random_state=42, refit=True,\n",
       "                   return_train_score=False, scoring=None, verbose=2)"
      ]
     },
     "execution_count": 130,
     "metadata": {},
     "output_type": "execute_result"
    }
   ],
   "source": [
    "rf_random.fit(iq_X_train_mm, iq_y_train)"
   ]
  },
  {
   "cell_type": "code",
   "execution_count": 131,
   "metadata": {
    "ExecuteTime": {
     "end_time": "2019-09-12T14:54:43.651270Z",
     "start_time": "2019-09-12T14:54:43.647751Z"
    }
   },
   "outputs": [
    {
     "data": {
      "text/plain": [
       "{'n_estimators': 400, 'min_samples_split': 10, 'min_samples_leaf': 4, 'max_features': 'auto', 'max_depth': 70, 'bootstrap': True}"
      ]
     },
     "execution_count": 131,
     "metadata": {},
     "output_type": "execute_result"
    }
   ],
   "source": []
  },
  {
   "cell_type": "code",
   "execution_count": null,
   "metadata": {},
   "outputs": [],
   "source": []
  }
 ],
 "metadata": {
  "kernelspec": {
   "display_name": "Python [conda env:metis] *",
   "language": "python",
   "name": "conda-env-metis-py"
  },
  "language_info": {
   "codemirror_mode": {
    "name": "ipython",
    "version": 3
   },
   "file_extension": ".py",
   "mimetype": "text/x-python",
   "name": "python",
   "nbconvert_exporter": "python",
   "pygments_lexer": "ipython3",
   "version": "3.6.8"
  },
  "toc": {
   "base_numbering": 1,
   "nav_menu": {},
   "number_sections": true,
   "sideBar": true,
   "skip_h1_title": false,
   "title_cell": "Table of Contents",
   "title_sidebar": "Contents",
   "toc_cell": false,
   "toc_position": {},
   "toc_section_display": true,
   "toc_window_display": false
  },
  "varInspector": {
   "cols": {
    "lenName": 16,
    "lenType": 16,
    "lenVar": 40
   },
   "kernels_config": {
    "python": {
     "delete_cmd_postfix": "",
     "delete_cmd_prefix": "del ",
     "library": "var_list.py",
     "varRefreshCmd": "print(var_dic_list())"
    },
    "r": {
     "delete_cmd_postfix": ") ",
     "delete_cmd_prefix": "rm(",
     "library": "var_list.r",
     "varRefreshCmd": "cat(var_dic_list()) "
    }
   },
   "types_to_exclude": [
    "module",
    "function",
    "builtin_function_or_method",
    "instance",
    "_Feature"
   ],
   "window_display": false
  }
 },
 "nbformat": 4,
 "nbformat_minor": 2
}
