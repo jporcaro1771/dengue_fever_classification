{
 "cells": [
  {
   "cell_type": "code",
   "execution_count": 72,
   "metadata": {
    "ExecuteTime": {
     "end_time": "2019-09-09T16:09:31.508404Z",
     "start_time": "2019-09-09T16:09:31.491905Z"
    }
   },
   "outputs": [],
   "source": [
    "%matplotlib inline\n",
    "%config InlineBackend.figure_formats = ['retina']\n",
    "\n",
    "import numpy as np\n",
    "import pandas as pd\n",
    "import pickle\n",
    "import matplotlib.pyplot as plt\n",
    "import seaborn as sns\n",
    "\n",
    "from sklearn.preprocessing import MinMaxScaler, StandardScaler, LabelEncoder, PolynomialFeatures\n",
    "from sklearn.model_selection import train_test_split, GridSearchCV, cross_val_score, KFold\n",
    "from sklearn.linear_model import LogisticRegression, RidgeClassifier\n",
    "from sklearn.neighbors import NearestNeighbors, KNeighborsClassifier\n",
    "from sklearn.naive_bayes import BernoulliNB, MultinomialNB, GaussianNB\n",
    "from sklearn.tree import DecisionTreeClassifier\n",
    "from sklearn.ensemble import RandomForestClassifier, GradientBoostingClassifier, VotingClassifier\n",
    "from sklearn.dummy import DummyClassifier\n",
    "from sklearn.metrics import accuracy_score, confusion_matrix, classification_report, precision_score, recall_score, log_loss, roc_curve, auc\n",
    "from sklearn import svm\n",
    "\n",
    "from xgboost import XGBClassifier, plot_importance"
   ]
  },
  {
   "cell_type": "code",
   "execution_count": 2,
   "metadata": {
    "ExecuteTime": {
     "end_time": "2019-09-09T14:25:13.363396Z",
     "start_time": "2019-09-09T14:25:13.355100Z"
    }
   },
   "outputs": [],
   "source": [
    "with open('sj_df.pickle', 'rb') as read_file:\n",
    "    sj_df = pickle.load(read_file)\n",
    "    \n",
    "with open('iq_df.pickle', 'rb') as read_file:\n",
    "    iq_df = pickle.load(read_file)"
   ]
  },
  {
   "cell_type": "code",
   "execution_count": 4,
   "metadata": {
    "ExecuteTime": {
     "end_time": "2019-09-09T14:25:26.108904Z",
     "start_time": "2019-09-09T14:25:26.105075Z"
    }
   },
   "outputs": [],
   "source": [
    "sj_df['isFallorWinter'] = np.where(sj_df['weekofyear'] >= 35, 1, 0)"
   ]
  },
  {
   "cell_type": "code",
   "execution_count": 25,
   "metadata": {
    "ExecuteTime": {
     "end_time": "2019-09-09T14:29:45.409006Z",
     "start_time": "2019-09-09T14:29:45.385319Z"
    }
   },
   "outputs": [
    {
     "data": {
      "text/html": [
       "<div>\n",
       "<style scoped>\n",
       "    .dataframe tbody tr th:only-of-type {\n",
       "        vertical-align: middle;\n",
       "    }\n",
       "\n",
       "    .dataframe tbody tr th {\n",
       "        vertical-align: top;\n",
       "    }\n",
       "\n",
       "    .dataframe thead th {\n",
       "        text-align: right;\n",
       "    }\n",
       "</style>\n",
       "<table border=\"1\" class=\"dataframe\">\n",
       "  <thead>\n",
       "    <tr style=\"text-align: right;\">\n",
       "      <th></th>\n",
       "      <th>outbreak</th>\n",
       "      <th>city</th>\n",
       "      <th>year</th>\n",
       "      <th>weekofyear</th>\n",
       "      <th>total_cases</th>\n",
       "      <th>week_start_date</th>\n",
       "      <th>ndvi_ne</th>\n",
       "      <th>ndvi_nw</th>\n",
       "      <th>ndvi_se</th>\n",
       "      <th>ndvi_sw</th>\n",
       "      <th>...</th>\n",
       "      <th>reanalysis_relative_humidity_percent</th>\n",
       "      <th>reanalysis_sat_precip_amt_mm</th>\n",
       "      <th>reanalysis_specific_humidity_g_per_kg</th>\n",
       "      <th>reanalysis_tdtr_k</th>\n",
       "      <th>station_avg_temp_c</th>\n",
       "      <th>station_diur_temp_rng_c</th>\n",
       "      <th>station_max_temp_c</th>\n",
       "      <th>station_min_temp_c</th>\n",
       "      <th>station_precip_mm</th>\n",
       "      <th>isFallorWinter</th>\n",
       "    </tr>\n",
       "  </thead>\n",
       "  <tbody>\n",
       "    <tr>\n",
       "      <th>0</th>\n",
       "      <td>0</td>\n",
       "      <td>sj</td>\n",
       "      <td>1990</td>\n",
       "      <td>18</td>\n",
       "      <td>4</td>\n",
       "      <td>1990-04-30</td>\n",
       "      <td>0.122600</td>\n",
       "      <td>0.103725</td>\n",
       "      <td>0.198483</td>\n",
       "      <td>0.177617</td>\n",
       "      <td>...</td>\n",
       "      <td>73.365714</td>\n",
       "      <td>12.42</td>\n",
       "      <td>14.012857</td>\n",
       "      <td>2.628571</td>\n",
       "      <td>25.442857</td>\n",
       "      <td>6.900000</td>\n",
       "      <td>29.4</td>\n",
       "      <td>20.0</td>\n",
       "      <td>16.0</td>\n",
       "      <td>0</td>\n",
       "    </tr>\n",
       "    <tr>\n",
       "      <th>1</th>\n",
       "      <td>0</td>\n",
       "      <td>sj</td>\n",
       "      <td>1990</td>\n",
       "      <td>19</td>\n",
       "      <td>5</td>\n",
       "      <td>1990-05-07</td>\n",
       "      <td>0.169900</td>\n",
       "      <td>0.142175</td>\n",
       "      <td>0.162357</td>\n",
       "      <td>0.155486</td>\n",
       "      <td>...</td>\n",
       "      <td>77.368571</td>\n",
       "      <td>22.82</td>\n",
       "      <td>15.372857</td>\n",
       "      <td>2.371429</td>\n",
       "      <td>26.714286</td>\n",
       "      <td>6.371429</td>\n",
       "      <td>31.7</td>\n",
       "      <td>22.2</td>\n",
       "      <td>8.6</td>\n",
       "      <td>0</td>\n",
       "    </tr>\n",
       "    <tr>\n",
       "      <th>2</th>\n",
       "      <td>0</td>\n",
       "      <td>sj</td>\n",
       "      <td>1990</td>\n",
       "      <td>20</td>\n",
       "      <td>4</td>\n",
       "      <td>1990-05-14</td>\n",
       "      <td>0.032250</td>\n",
       "      <td>0.172967</td>\n",
       "      <td>0.157200</td>\n",
       "      <td>0.170843</td>\n",
       "      <td>...</td>\n",
       "      <td>82.052857</td>\n",
       "      <td>34.54</td>\n",
       "      <td>16.848571</td>\n",
       "      <td>2.300000</td>\n",
       "      <td>26.714286</td>\n",
       "      <td>6.485714</td>\n",
       "      <td>32.2</td>\n",
       "      <td>22.8</td>\n",
       "      <td>41.4</td>\n",
       "      <td>0</td>\n",
       "    </tr>\n",
       "    <tr>\n",
       "      <th>3</th>\n",
       "      <td>0</td>\n",
       "      <td>sj</td>\n",
       "      <td>1990</td>\n",
       "      <td>21</td>\n",
       "      <td>3</td>\n",
       "      <td>1990-05-21</td>\n",
       "      <td>0.128633</td>\n",
       "      <td>0.245067</td>\n",
       "      <td>0.227557</td>\n",
       "      <td>0.235886</td>\n",
       "      <td>...</td>\n",
       "      <td>80.337143</td>\n",
       "      <td>15.36</td>\n",
       "      <td>16.672857</td>\n",
       "      <td>2.428571</td>\n",
       "      <td>27.471429</td>\n",
       "      <td>6.771429</td>\n",
       "      <td>33.3</td>\n",
       "      <td>23.3</td>\n",
       "      <td>4.0</td>\n",
       "      <td>0</td>\n",
       "    </tr>\n",
       "    <tr>\n",
       "      <th>4</th>\n",
       "      <td>0</td>\n",
       "      <td>sj</td>\n",
       "      <td>1990</td>\n",
       "      <td>22</td>\n",
       "      <td>6</td>\n",
       "      <td>1990-05-28</td>\n",
       "      <td>0.196200</td>\n",
       "      <td>0.262200</td>\n",
       "      <td>0.251200</td>\n",
       "      <td>0.247340</td>\n",
       "      <td>...</td>\n",
       "      <td>80.460000</td>\n",
       "      <td>7.52</td>\n",
       "      <td>17.210000</td>\n",
       "      <td>3.014286</td>\n",
       "      <td>28.942857</td>\n",
       "      <td>9.371429</td>\n",
       "      <td>35.0</td>\n",
       "      <td>23.9</td>\n",
       "      <td>5.8</td>\n",
       "      <td>0</td>\n",
       "    </tr>\n",
       "  </tbody>\n",
       "</table>\n",
       "<p>5 rows × 27 columns</p>\n",
       "</div>"
      ],
      "text/plain": [
       "   outbreak city  year  weekofyear  total_cases week_start_date   ndvi_ne  \\\n",
       "0         0   sj  1990          18            4      1990-04-30  0.122600   \n",
       "1         0   sj  1990          19            5      1990-05-07  0.169900   \n",
       "2         0   sj  1990          20            4      1990-05-14  0.032250   \n",
       "3         0   sj  1990          21            3      1990-05-21  0.128633   \n",
       "4         0   sj  1990          22            6      1990-05-28  0.196200   \n",
       "\n",
       "    ndvi_nw   ndvi_se   ndvi_sw  ...  reanalysis_relative_humidity_percent  \\\n",
       "0  0.103725  0.198483  0.177617  ...                             73.365714   \n",
       "1  0.142175  0.162357  0.155486  ...                             77.368571   \n",
       "2  0.172967  0.157200  0.170843  ...                             82.052857   \n",
       "3  0.245067  0.227557  0.235886  ...                             80.337143   \n",
       "4  0.262200  0.251200  0.247340  ...                             80.460000   \n",
       "\n",
       "   reanalysis_sat_precip_amt_mm  reanalysis_specific_humidity_g_per_kg  \\\n",
       "0                         12.42                              14.012857   \n",
       "1                         22.82                              15.372857   \n",
       "2                         34.54                              16.848571   \n",
       "3                         15.36                              16.672857   \n",
       "4                          7.52                              17.210000   \n",
       "\n",
       "   reanalysis_tdtr_k  station_avg_temp_c  station_diur_temp_rng_c  \\\n",
       "0           2.628571           25.442857                 6.900000   \n",
       "1           2.371429           26.714286                 6.371429   \n",
       "2           2.300000           26.714286                 6.485714   \n",
       "3           2.428571           27.471429                 6.771429   \n",
       "4           3.014286           28.942857                 9.371429   \n",
       "\n",
       "   station_max_temp_c  station_min_temp_c  station_precip_mm  isFallorWinter  \n",
       "0                29.4                20.0               16.0               0  \n",
       "1                31.7                22.2                8.6               0  \n",
       "2                32.2                22.8               41.4               0  \n",
       "3                33.3                23.3                4.0               0  \n",
       "4                35.0                23.9                5.8               0  \n",
       "\n",
       "[5 rows x 27 columns]"
      ]
     },
     "execution_count": 25,
     "metadata": {},
     "output_type": "execute_result"
    }
   ],
   "source": [
    "sj_df.head()"
   ]
  },
  {
   "cell_type": "code",
   "execution_count": 26,
   "metadata": {
    "ExecuteTime": {
     "end_time": "2019-09-09T14:29:51.699293Z",
     "start_time": "2019-09-09T14:29:51.681455Z"
    }
   },
   "outputs": [
    {
     "data": {
      "text/html": [
       "<div>\n",
       "<style scoped>\n",
       "    .dataframe tbody tr th:only-of-type {\n",
       "        vertical-align: middle;\n",
       "    }\n",
       "\n",
       "    .dataframe tbody tr th {\n",
       "        vertical-align: top;\n",
       "    }\n",
       "\n",
       "    .dataframe thead th {\n",
       "        text-align: right;\n",
       "    }\n",
       "</style>\n",
       "<table border=\"1\" class=\"dataframe\">\n",
       "  <thead>\n",
       "    <tr style=\"text-align: right;\">\n",
       "      <th></th>\n",
       "      <th>outbreak</th>\n",
       "      <th>city</th>\n",
       "      <th>year</th>\n",
       "      <th>weekofyear</th>\n",
       "      <th>total_cases</th>\n",
       "      <th>week_start_date</th>\n",
       "      <th>ndvi_ne</th>\n",
       "      <th>ndvi_nw</th>\n",
       "      <th>ndvi_se</th>\n",
       "      <th>ndvi_sw</th>\n",
       "      <th>...</th>\n",
       "      <th>reanalysis_precip_amt_kg_per_m2</th>\n",
       "      <th>reanalysis_relative_humidity_percent</th>\n",
       "      <th>reanalysis_sat_precip_amt_mm</th>\n",
       "      <th>reanalysis_specific_humidity_g_per_kg</th>\n",
       "      <th>reanalysis_tdtr_k</th>\n",
       "      <th>station_avg_temp_c</th>\n",
       "      <th>station_diur_temp_rng_c</th>\n",
       "      <th>station_max_temp_c</th>\n",
       "      <th>station_min_temp_c</th>\n",
       "      <th>station_precip_mm</th>\n",
       "    </tr>\n",
       "  </thead>\n",
       "  <tbody>\n",
       "    <tr>\n",
       "      <th>1008</th>\n",
       "      <td>0</td>\n",
       "      <td>iq</td>\n",
       "      <td>2001</td>\n",
       "      <td>47</td>\n",
       "      <td>1</td>\n",
       "      <td>2001-11-19</td>\n",
       "      <td>0.329700</td>\n",
       "      <td>0.330417</td>\n",
       "      <td>0.340643</td>\n",
       "      <td>0.441571</td>\n",
       "      <td>...</td>\n",
       "      <td>56.30</td>\n",
       "      <td>88.837143</td>\n",
       "      <td>65.89</td>\n",
       "      <td>18.451429</td>\n",
       "      <td>9.228571</td>\n",
       "      <td>27.575000</td>\n",
       "      <td>11.575000</td>\n",
       "      <td>33.7</td>\n",
       "      <td>20.8</td>\n",
       "      <td>31.0</td>\n",
       "    </tr>\n",
       "    <tr>\n",
       "      <th>1009</th>\n",
       "      <td>0</td>\n",
       "      <td>iq</td>\n",
       "      <td>2001</td>\n",
       "      <td>48</td>\n",
       "      <td>1</td>\n",
       "      <td>2001-11-26</td>\n",
       "      <td>0.301500</td>\n",
       "      <td>0.361300</td>\n",
       "      <td>0.305571</td>\n",
       "      <td>0.369917</td>\n",
       "      <td>...</td>\n",
       "      <td>31.50</td>\n",
       "      <td>87.377143</td>\n",
       "      <td>47.46</td>\n",
       "      <td>17.427143</td>\n",
       "      <td>8.014286</td>\n",
       "      <td>28.233333</td>\n",
       "      <td>11.666667</td>\n",
       "      <td>35.3</td>\n",
       "      <td>21.8</td>\n",
       "      <td>12.2</td>\n",
       "    </tr>\n",
       "    <tr>\n",
       "      <th>1010</th>\n",
       "      <td>0</td>\n",
       "      <td>iq</td>\n",
       "      <td>2001</td>\n",
       "      <td>49</td>\n",
       "      <td>1</td>\n",
       "      <td>2001-12-03</td>\n",
       "      <td>0.325057</td>\n",
       "      <td>0.226471</td>\n",
       "      <td>0.299257</td>\n",
       "      <td>0.350471</td>\n",
       "      <td>...</td>\n",
       "      <td>158.50</td>\n",
       "      <td>87.240000</td>\n",
       "      <td>46.86</td>\n",
       "      <td>17.595714</td>\n",
       "      <td>8.871429</td>\n",
       "      <td>28.425000</td>\n",
       "      <td>11.650000</td>\n",
       "      <td>35.5</td>\n",
       "      <td>21.2</td>\n",
       "      <td>23.1</td>\n",
       "    </tr>\n",
       "    <tr>\n",
       "      <th>1011</th>\n",
       "      <td>0</td>\n",
       "      <td>iq</td>\n",
       "      <td>2001</td>\n",
       "      <td>50</td>\n",
       "      <td>2</td>\n",
       "      <td>2001-12-10</td>\n",
       "      <td>0.326033</td>\n",
       "      <td>0.235533</td>\n",
       "      <td>0.315571</td>\n",
       "      <td>0.306643</td>\n",
       "      <td>...</td>\n",
       "      <td>72.94</td>\n",
       "      <td>96.118571</td>\n",
       "      <td>138.22</td>\n",
       "      <td>19.305714</td>\n",
       "      <td>7.785714</td>\n",
       "      <td>27.840000</td>\n",
       "      <td>10.960000</td>\n",
       "      <td>35.0</td>\n",
       "      <td>21.0</td>\n",
       "      <td>75.0</td>\n",
       "    </tr>\n",
       "    <tr>\n",
       "      <th>1012</th>\n",
       "      <td>0</td>\n",
       "      <td>iq</td>\n",
       "      <td>2001</td>\n",
       "      <td>51</td>\n",
       "      <td>4</td>\n",
       "      <td>2001-12-17</td>\n",
       "      <td>0.222943</td>\n",
       "      <td>0.224071</td>\n",
       "      <td>0.212814</td>\n",
       "      <td>0.184129</td>\n",
       "      <td>...</td>\n",
       "      <td>85.90</td>\n",
       "      <td>93.947143</td>\n",
       "      <td>43.95</td>\n",
       "      <td>18.965714</td>\n",
       "      <td>7.385714</td>\n",
       "      <td>27.075000</td>\n",
       "      <td>9.500000</td>\n",
       "      <td>32.9</td>\n",
       "      <td>21.0</td>\n",
       "      <td>57.9</td>\n",
       "    </tr>\n",
       "  </tbody>\n",
       "</table>\n",
       "<p>5 rows × 26 columns</p>\n",
       "</div>"
      ],
      "text/plain": [
       "      outbreak city  year  weekofyear  total_cases week_start_date   ndvi_ne  \\\n",
       "1008         0   iq  2001          47            1      2001-11-19  0.329700   \n",
       "1009         0   iq  2001          48            1      2001-11-26  0.301500   \n",
       "1010         0   iq  2001          49            1      2001-12-03  0.325057   \n",
       "1011         0   iq  2001          50            2      2001-12-10  0.326033   \n",
       "1012         0   iq  2001          51            4      2001-12-17  0.222943   \n",
       "\n",
       "       ndvi_nw   ndvi_se   ndvi_sw  ...  reanalysis_precip_amt_kg_per_m2  \\\n",
       "1008  0.330417  0.340643  0.441571  ...                            56.30   \n",
       "1009  0.361300  0.305571  0.369917  ...                            31.50   \n",
       "1010  0.226471  0.299257  0.350471  ...                           158.50   \n",
       "1011  0.235533  0.315571  0.306643  ...                            72.94   \n",
       "1012  0.224071  0.212814  0.184129  ...                            85.90   \n",
       "\n",
       "      reanalysis_relative_humidity_percent  reanalysis_sat_precip_amt_mm  \\\n",
       "1008                             88.837143                         65.89   \n",
       "1009                             87.377143                         47.46   \n",
       "1010                             87.240000                         46.86   \n",
       "1011                             96.118571                        138.22   \n",
       "1012                             93.947143                         43.95   \n",
       "\n",
       "      reanalysis_specific_humidity_g_per_kg  reanalysis_tdtr_k  \\\n",
       "1008                              18.451429           9.228571   \n",
       "1009                              17.427143           8.014286   \n",
       "1010                              17.595714           8.871429   \n",
       "1011                              19.305714           7.785714   \n",
       "1012                              18.965714           7.385714   \n",
       "\n",
       "      station_avg_temp_c  station_diur_temp_rng_c  station_max_temp_c  \\\n",
       "1008           27.575000                11.575000                33.7   \n",
       "1009           28.233333                11.666667                35.3   \n",
       "1010           28.425000                11.650000                35.5   \n",
       "1011           27.840000                10.960000                35.0   \n",
       "1012           27.075000                 9.500000                32.9   \n",
       "\n",
       "      station_min_temp_c  station_precip_mm  \n",
       "1008                20.8               31.0  \n",
       "1009                21.8               12.2  \n",
       "1010                21.2               23.1  \n",
       "1011                21.0               75.0  \n",
       "1012                21.0               57.9  \n",
       "\n",
       "[5 rows x 26 columns]"
      ]
     },
     "execution_count": 26,
     "metadata": {},
     "output_type": "execute_result"
    }
   ],
   "source": [
    "iq_df.head()"
   ]
  },
  {
   "cell_type": "code",
   "execution_count": 24,
   "metadata": {
    "ExecuteTime": {
     "end_time": "2019-09-09T14:29:23.754120Z",
     "start_time": "2019-09-09T14:29:23.747888Z"
    }
   },
   "outputs": [
    {
     "data": {
      "text/plain": [
       "0    376\n",
       "1     72\n",
       "Name: outbreak, dtype: int64"
      ]
     },
     "execution_count": 24,
     "metadata": {},
     "output_type": "execute_result"
    }
   ],
   "source": [
    "iq_df.outbreak.value_counts()"
   ]
  },
  {
   "cell_type": "code",
   "execution_count": 15,
   "metadata": {
    "ExecuteTime": {
     "end_time": "2019-09-09T14:28:04.189926Z",
     "start_time": "2019-09-09T14:28:04.160699Z"
    }
   },
   "outputs": [],
   "source": [
    "def fit_and_score_model(model_type, X_train, y_train, X_test, y_test):\n",
    "    \n",
    "    # hyperparameters\n",
    "    # cross val\n",
    "    \n",
    "    if model_type == \"Logistic Regression\":\n",
    "        logit = LogisticRegression()\n",
    "        logit_fit = logit.fit(X_train, y_train)\n",
    "        logit_predict = logit_fit.predict(X_test)\n",
    "        return recall_score(y_test, logit_predict)\n",
    "#         print(confusion_matrix(y_test, logit_predict))\n",
    "    \n",
    "    if model_type == \"Ridge\":\n",
    "        ridge = RidgeClassifier()\n",
    "        ridge_fit = ridge.fit(X_train, y_train)\n",
    "        ridge_predict = ridge_fit.predict(X_test)\n",
    "        return recall_score(y_test, ridge_predict)\n",
    "    \n",
    "    if model_type == \"Naive Bayes\":\n",
    "        NB = GaussianNB()\n",
    "        NB_fit = NB.fit(X_train, y_train)\n",
    "        NB_predict = NB_fit.predict(X_test)\n",
    "        return recall_score(y_test, NB_predict)\n",
    "    \n",
    "    if model_type == \"Bernoulli Naive Bayes\":\n",
    "        BerNB = BernoulliNB()\n",
    "        BerNB_fit = BerNB.fit(X_train, y_train)\n",
    "        BerNB_predict = BerNB_fit.predict(X_test)\n",
    "        return recall_score(y_test, BerNB_predict)\n",
    "    \n",
    "    if model_type == \"Decision Tree\":\n",
    "        tree = DecisionTreeClassifier()\n",
    "        tree_fit = tree.fit(X_train, y_train)\n",
    "        tree_predict = tree_fit.predict(X_test)\n",
    "        return recall_score(y_test, tree_predict)\n",
    "        \n",
    "    if model_type == \"SVM\":\n",
    "        SVM = svm.SVC()\n",
    "        SVM_fit = SVM.fit(X_train, y_train)\n",
    "        SVM_predict = SVM_fit.predict(X_test)\n",
    "        return recall_score(y_test, SVM_predict)\n",
    "        \n",
    "    if model_type == \"Random Forest\":\n",
    "        rf = RandomForestClassifier()\n",
    "        rf_fit = rf.fit(X_train, y_train)\n",
    "        rf_predict = rf_fit.predict(X_test)\n",
    "        return recall_score(y_test, rf_predict)\n",
    "    \n",
    "    if model_type == \"XGBoost\":\n",
    "        xgboost = XGBClassifier()\n",
    "        xgboost_fit = xgboost.fit(X_train, y_train)\n",
    "        xgboost_predict = xgboost_fit.predict(X_test)\n",
    "        return recall_score(y_test, xgboost_predict)\n",
    "        "
   ]
  },
  {
   "cell_type": "code",
   "execution_count": 54,
   "metadata": {
    "ExecuteTime": {
     "end_time": "2019-09-09T15:27:09.297995Z",
     "start_time": "2019-09-09T15:27:09.288059Z"
    }
   },
   "outputs": [],
   "source": [
    "sj_X = sj_df.iloc[:, 6:]\n",
    "sj_y = sj_df.iloc[:, 0]\n",
    "\n",
    "sj_X_train, sj_X_test, sj_y_train, sj_y_test = train_test_split(sj_X, sj_y, test_size=0.2, random_state=42)\n",
    "\n",
    "iq_X = iq_df.iloc[:, 6:]\n",
    "iq_y = iq_df.iloc[:, 0]\n",
    "\n",
    "iq_X_train, iq_X_test, iq_y_train, iq_y_test = train_test_split(iq_X, iq_y, test_size=0.2, random_state=42)\n",
    "\n",
    "list_of_models = [\"Logistic Regression\", \"Ridge\", \"Naive Bayes\", \"Bernoulli Naive Bayes\", \n",
    "                 \"Decision Tree\", \"SVM\", \"Random Forest\", \"XGBoost\"]"
   ]
  },
  {
   "cell_type": "code",
   "execution_count": 16,
   "metadata": {
    "ExecuteTime": {
     "end_time": "2019-09-09T14:28:10.821052Z",
     "start_time": "2019-09-09T14:28:10.480087Z"
    }
   },
   "outputs": [
    {
     "name": "stdout",
     "output_type": "stream",
     "text": [
      "Logistic Regression:  0.5853658536585366\n",
      "Ridge:  0.5609756097560976\n",
      "Naive Bayes:  0.7073170731707317\n",
      "Bernoulli Naive Bayes:  0.5121951219512195\n",
      "Decision Tree:  0.5853658536585366\n",
      "SVM:  0.6585365853658537\n",
      "Random Forest:  0.5609756097560976\n"
     ]
    },
    {
     "name": "stderr",
     "output_type": "stream",
     "text": [
      "/Users/joelporcaro/anaconda3/envs/metis/lib/python3.6/site-packages/sklearn/linear_model/logistic.py:432: FutureWarning: Default solver will be changed to 'lbfgs' in 0.22. Specify a solver to silence this warning.\n",
      "  FutureWarning)\n",
      "/Users/joelporcaro/anaconda3/envs/metis/lib/python3.6/site-packages/sklearn/svm/base.py:193: FutureWarning: The default value of gamma will change from 'auto' to 'scale' in version 0.22 to account better for unscaled features. Set gamma explicitly to 'auto' or 'scale' to avoid this warning.\n",
      "  \"avoid this warning.\", FutureWarning)\n",
      "/Users/joelporcaro/anaconda3/envs/metis/lib/python3.6/site-packages/sklearn/ensemble/forest.py:245: FutureWarning: The default value of n_estimators will change from 10 in version 0.20 to 100 in 0.22.\n",
      "  \"10 in version 0.20 to 100 in 0.22.\", FutureWarning)\n"
     ]
    },
    {
     "name": "stdout",
     "output_type": "stream",
     "text": [
      "XGBoost:  0.5975609756097561\n",
      "\n",
      "Logistic Regression:  0.0\n",
      "Ridge:  0.0\n",
      "Naive Bayes:  0.5625\n",
      "Bernoulli Naive Bayes:  0.0\n",
      "Decision Tree:  0.25\n",
      "SVM:  0.0\n",
      "Random Forest:  0.0\n",
      "XGBoost:  0.125\n"
     ]
    },
    {
     "name": "stderr",
     "output_type": "stream",
     "text": [
      "/Users/joelporcaro/anaconda3/envs/metis/lib/python3.6/site-packages/sklearn/linear_model/logistic.py:432: FutureWarning: Default solver will be changed to 'lbfgs' in 0.22. Specify a solver to silence this warning.\n",
      "  FutureWarning)\n",
      "/Users/joelporcaro/anaconda3/envs/metis/lib/python3.6/site-packages/sklearn/svm/base.py:193: FutureWarning: The default value of gamma will change from 'auto' to 'scale' in version 0.22 to account better for unscaled features. Set gamma explicitly to 'auto' or 'scale' to avoid this warning.\n",
      "  \"avoid this warning.\", FutureWarning)\n",
      "/Users/joelporcaro/anaconda3/envs/metis/lib/python3.6/site-packages/sklearn/ensemble/forest.py:245: FutureWarning: The default value of n_estimators will change from 10 in version 0.20 to 100 in 0.22.\n",
      "  \"10 in version 0.20 to 100 in 0.22.\", FutureWarning)\n"
     ]
    }
   ],
   "source": [
    "# Baseline models\n",
    "\n",
    "for m in list_of_models:\n",
    "    print(m + \":  \" + str(fit_and_score_model(m, sj_X_train, sj_y_train, sj_X_test, sj_y_test)))\n",
    "    \n",
    "print()\n",
    "\n",
    "for m in list_of_models:\n",
    "    print(m + \":  \" + str(fit_and_score_model(m, iq_X_train, iq_y_train, iq_X_test, iq_y_test)))"
   ]
  },
  {
   "cell_type": "code",
   "execution_count": null,
   "metadata": {},
   "outputs": [],
   "source": []
  },
  {
   "cell_type": "code",
   "execution_count": null,
   "metadata": {},
   "outputs": [],
   "source": []
  },
  {
   "cell_type": "code",
   "execution_count": null,
   "metadata": {},
   "outputs": [],
   "source": []
  },
  {
   "cell_type": "code",
   "execution_count": null,
   "metadata": {},
   "outputs": [],
   "source": []
  },
  {
   "cell_type": "code",
   "execution_count": null,
   "metadata": {},
   "outputs": [],
   "source": []
  },
  {
   "cell_type": "code",
   "execution_count": null,
   "metadata": {},
   "outputs": [],
   "source": []
  },
  {
   "cell_type": "code",
   "execution_count": null,
   "metadata": {},
   "outputs": [],
   "source": []
  },
  {
   "cell_type": "code",
   "execution_count": null,
   "metadata": {},
   "outputs": [],
   "source": []
  },
  {
   "cell_type": "code",
   "execution_count": null,
   "metadata": {},
   "outputs": [],
   "source": []
  },
  {
   "cell_type": "code",
   "execution_count": null,
   "metadata": {},
   "outputs": [],
   "source": []
  },
  {
   "cell_type": "code",
   "execution_count": null,
   "metadata": {},
   "outputs": [],
   "source": []
  },
  {
   "cell_type": "code",
   "execution_count": null,
   "metadata": {},
   "outputs": [],
   "source": []
  },
  {
   "cell_type": "code",
   "execution_count": null,
   "metadata": {},
   "outputs": [],
   "source": []
  },
  {
   "cell_type": "code",
   "execution_count": null,
   "metadata": {},
   "outputs": [],
   "source": []
  },
  {
   "cell_type": "code",
   "execution_count": null,
   "metadata": {},
   "outputs": [],
   "source": []
  },
  {
   "cell_type": "code",
   "execution_count": null,
   "metadata": {
    "ExecuteTime": {
     "end_time": "2019-09-05T21:41:03.504750Z",
     "start_time": "2019-09-05T21:41:03.491421Z"
    }
   },
   "outputs": [],
   "source": [
    "fit_and_score_model(\"Logistic Regression\", sj_X_train, sj_y_train, sj_X_test, sj_y_test, C=2.0)"
   ]
  },
  {
   "cell_type": "code",
   "execution_count": null,
   "metadata": {},
   "outputs": [],
   "source": []
  },
  {
   "cell_type": "code",
   "execution_count": null,
   "metadata": {},
   "outputs": [],
   "source": []
  },
  {
   "cell_type": "code",
   "execution_count": null,
   "metadata": {},
   "outputs": [],
   "source": []
  },
  {
   "cell_type": "code",
   "execution_count": null,
   "metadata": {},
   "outputs": [],
   "source": []
  },
  {
   "cell_type": "code",
   "execution_count": 90,
   "metadata": {
    "ExecuteTime": {
     "end_time": "2019-09-09T16:37:57.967076Z",
     "start_time": "2019-09-09T16:37:57.933727Z"
    }
   },
   "outputs": [
    {
     "name": "stdout",
     "output_type": "stream",
     "text": [
      "baseline with scaling\n",
      "0.7287234042553191\n",
      "with kfold\n",
      "0.7134502923976609\n",
      "ROC: \n",
      "0.7649562816382882\n"
     ]
    },
    {
     "name": "stderr",
     "output_type": "stream",
     "text": [
      "/Users/joelporcaro/anaconda3/envs/metis/lib/python3.6/site-packages/sklearn/linear_model/logistic.py:432: FutureWarning: Default solver will be changed to 'lbfgs' in 0.22. Specify a solver to silence this warning.\n",
      "  FutureWarning)\n",
      "/Users/joelporcaro/anaconda3/envs/metis/lib/python3.6/site-packages/sklearn/linear_model/logistic.py:432: FutureWarning: Default solver will be changed to 'lbfgs' in 0.22. Specify a solver to silence this warning.\n",
      "  FutureWarning)\n",
      "/Users/joelporcaro/anaconda3/envs/metis/lib/python3.6/site-packages/sklearn/linear_model/logistic.py:432: FutureWarning: Default solver will be changed to 'lbfgs' in 0.22. Specify a solver to silence this warning.\n",
      "  FutureWarning)\n",
      "/Users/joelporcaro/anaconda3/envs/metis/lib/python3.6/site-packages/sklearn/linear_model/logistic.py:432: FutureWarning: Default solver will be changed to 'lbfgs' in 0.22. Specify a solver to silence this warning.\n",
      "  FutureWarning)\n",
      "/Users/joelporcaro/anaconda3/envs/metis/lib/python3.6/site-packages/sklearn/linear_model/logistic.py:432: FutureWarning: Default solver will be changed to 'lbfgs' in 0.22. Specify a solver to silence this warning.\n",
      "  FutureWarning)\n",
      "/Users/joelporcaro/anaconda3/envs/metis/lib/python3.6/site-packages/sklearn/linear_model/logistic.py:432: FutureWarning: Default solver will be changed to 'lbfgs' in 0.22. Specify a solver to silence this warning.\n",
      "  FutureWarning)\n",
      "/Users/joelporcaro/anaconda3/envs/metis/lib/python3.6/site-packages/sklearn/linear_model/logistic.py:432: FutureWarning: Default solver will be changed to 'lbfgs' in 0.22. Specify a solver to silence this warning.\n",
      "  FutureWarning)\n",
      "/Users/joelporcaro/anaconda3/envs/metis/lib/python3.6/site-packages/sklearn/linear_model/logistic.py:432: FutureWarning: Default solver will be changed to 'lbfgs' in 0.22. Specify a solver to silence this warning.\n",
      "  FutureWarning)\n",
      "/Users/joelporcaro/anaconda3/envs/metis/lib/python3.6/site-packages/sklearn/linear_model/logistic.py:432: FutureWarning: Default solver will be changed to 'lbfgs' in 0.22. Specify a solver to silence this warning.\n",
      "  FutureWarning)\n",
      "/Users/joelporcaro/anaconda3/envs/metis/lib/python3.6/site-packages/sklearn/linear_model/logistic.py:432: FutureWarning: Default solver will be changed to 'lbfgs' in 0.22. Specify a solver to silence this warning.\n",
      "  FutureWarning)\n",
      "/Users/joelporcaro/anaconda3/envs/metis/lib/python3.6/site-packages/sklearn/linear_model/logistic.py:432: FutureWarning: Default solver will be changed to 'lbfgs' in 0.22. Specify a solver to silence this warning.\n",
      "  FutureWarning)\n"
     ]
    }
   ],
   "source": [
    "logit = LogisticRegression(C=2.0)\n",
    "mm_scaler = StandardScaler()\n",
    "sj_X_train_minmax = mm_scaler.fit_transform(sj_X_train)\n",
    "sj_X_test_minmax = mm_scaler.transform(sj_X_test) # only want to tranform X_test based on fit of X_train\n",
    "logit.fit(sj_X_train_minmax, sj_y_train)\n",
    "print(\"baseline with scaling\")\n",
    "print(logit.score(sj_X_test_minmax, sj_y_test))\n",
    "print(\"with kfold\")\n",
    "kf = KFold(n_splits=10, shuffle=True, random_state=42)\n",
    "print(np.mean(cross_val_score(logit, sj_X_test_minmax, sj_y_test, cv=kf)))\n",
    "\n",
    "probs = logit.predict_proba(sj_X_test_minmax)\n",
    "probs = probs[:, 1]\n",
    "fpr, tpr, thresholds = roc_curve(sj_y_test, probs)\n",
    "roc_auc = auc(fpr, tpr)\n",
    "print(\"ROC: \")\n",
    "print(roc_auc)"
   ]
  },
  {
   "cell_type": "code",
   "execution_count": 38,
   "metadata": {
    "ExecuteTime": {
     "end_time": "2019-09-09T15:06:41.025627Z",
     "start_time": "2019-09-09T15:06:41.018327Z"
    }
   },
   "outputs": [
    {
     "name": "stdout",
     "output_type": "stream",
     "text": [
      "0.6871657754010695\n",
      "0.723404255319149\n"
     ]
    },
    {
     "name": "stderr",
     "output_type": "stream",
     "text": [
      "/Users/joelporcaro/anaconda3/envs/metis/lib/python3.6/site-packages/sklearn/linear_model/logistic.py:432: FutureWarning: Default solver will be changed to 'lbfgs' in 0.22. Specify a solver to silence this warning.\n",
      "  FutureWarning)\n"
     ]
    }
   ],
   "source": [
    "print(logit.score(sj_X_train_minmax, sj_y_train))"
   ]
  },
  {
   "cell_type": "code",
   "execution_count": 62,
   "metadata": {
    "ExecuteTime": {
     "end_time": "2019-09-09T15:47:00.143628Z",
     "start_time": "2019-09-09T15:47:00.127454Z"
    }
   },
   "outputs": [
    {
     "name": "stderr",
     "output_type": "stream",
     "text": [
      "/Users/joelporcaro/anaconda3/envs/metis/lib/python3.6/site-packages/sklearn/linear_model/logistic.py:432: FutureWarning: Default solver will be changed to 'lbfgs' in 0.22. Specify a solver to silence this warning.\n",
      "  FutureWarning)\n",
      "/Users/joelporcaro/anaconda3/envs/metis/lib/python3.6/site-packages/sklearn/linear_model/logistic.py:432: FutureWarning: Default solver will be changed to 'lbfgs' in 0.22. Specify a solver to silence this warning.\n",
      "  FutureWarning)\n",
      "/Users/joelporcaro/anaconda3/envs/metis/lib/python3.6/site-packages/sklearn/linear_model/logistic.py:432: FutureWarning: Default solver will be changed to 'lbfgs' in 0.22. Specify a solver to silence this warning.\n",
      "  FutureWarning)\n",
      "/Users/joelporcaro/anaconda3/envs/metis/lib/python3.6/site-packages/sklearn/linear_model/logistic.py:432: FutureWarning: Default solver will be changed to 'lbfgs' in 0.22. Specify a solver to silence this warning.\n",
      "  FutureWarning)\n",
      "/Users/joelporcaro/anaconda3/envs/metis/lib/python3.6/site-packages/sklearn/linear_model/logistic.py:432: FutureWarning: Default solver will be changed to 'lbfgs' in 0.22. Specify a solver to silence this warning.\n",
      "  FutureWarning)\n"
     ]
    },
    {
     "data": {
      "text/plain": [
       "0.7025604551920341"
      ]
     },
     "execution_count": 62,
     "metadata": {},
     "output_type": "execute_result"
    }
   ],
   "source": []
  },
  {
   "cell_type": "code",
   "execution_count": 107,
   "metadata": {
    "ExecuteTime": {
     "end_time": "2019-09-09T16:41:54.013426Z",
     "start_time": "2019-09-09T16:41:53.984489Z"
    }
   },
   "outputs": [
    {
     "name": "stdout",
     "output_type": "stream",
     "text": [
      "baseline with scaling\n",
      "0.6968085106382979\n",
      "with kfold\n",
      "0.6494152046783626\n",
      "ROC: \n",
      "0.7299240681086057\n"
     ]
    }
   ],
   "source": [
    "naive = BernoulliNB(alpha=1, binarize=1)\n",
    "mm_scaler = StandardScaler()\n",
    "sj_X_train_minmax = mm_scaler.fit_transform(sj_X_train)\n",
    "sj_X_test_minmax = mm_scaler.transform(sj_X_test) # only want to tranform X_test based on fit of X_train\n",
    "naive.fit(sj_X_train_minmax, sj_y_train)\n",
    "print(\"baseline with scaling\")\n",
    "print(naive.score(sj_X_test_minmax, sj_y_test))\n",
    "print(\"with kfold\")\n",
    "kf = KFold(n_splits=10, shuffle=True, random_state=42)\n",
    "print(np.mean(cross_val_score(naive, sj_X_test_minmax, sj_y_test, cv=kf)))\n",
    "\n",
    "probs = naive.predict_proba(sj_X_test_minmax)\n",
    "probs = probs[:, 1]\n",
    "fpr, tpr, thresholds = roc_curve(sj_y_test, probs)\n",
    "roc_auc = auc(fpr, tpr)\n",
    "print(\"ROC: \")\n",
    "print(roc_auc)"
   ]
  },
  {
   "cell_type": "code",
   "execution_count": null,
   "metadata": {},
   "outputs": [],
   "source": []
  },
  {
   "cell_type": "code",
   "execution_count": null,
   "metadata": {},
   "outputs": [],
   "source": []
  },
  {
   "cell_type": "code",
   "execution_count": 122,
   "metadata": {
    "ExecuteTime": {
     "end_time": "2019-09-09T16:50:36.933288Z",
     "start_time": "2019-09-09T16:50:36.174521Z"
    }
   },
   "outputs": [
    {
     "name": "stdout",
     "output_type": "stream",
     "text": [
      "baseline with scaling\n",
      "0.7606382978723404\n",
      "with kfold\n",
      "0.7239766081871345\n",
      "ROC: \n",
      "0.7875057524160147\n"
     ]
    }
   ],
   "source": [
    "boost = XGBClassifier(max_depth=5, n_estimators=110, )\n",
    "mm_scaler = StandardScaler()\n",
    "sj_X_train_minmax = mm_scaler.fit_transform(sj_X_train)\n",
    "sj_X_test_minmax = mm_scaler.transform(sj_X_test) # only want to tranform X_test based on fit of X_train\n",
    "boost.fit(sj_X_train_minmax, sj_y_train)\n",
    "print(\"baseline with scaling\")\n",
    "print(boost.score(sj_X_test_minmax, sj_y_test))\n",
    "print(\"with kfold\")\n",
    "kf = KFold(n_splits=10, shuffle=True, random_state=42)\n",
    "print(np.mean(cross_val_score(boost, sj_X_test_minmax, sj_y_test, cv=kf)))\n",
    "\n",
    "probs = boost.predict_proba(sj_X_test_minmax)\n",
    "probs = probs[:, 1]\n",
    "fpr, tpr, thresholds = roc_curve(sj_y_test, probs)\n",
    "roc_auc = auc(fpr, tpr)\n",
    "print(\"ROC: \")\n",
    "print(roc_auc)"
   ]
  },
  {
   "cell_type": "code",
   "execution_count": 121,
   "metadata": {
    "ExecuteTime": {
     "end_time": "2019-09-09T16:50:24.160633Z",
     "start_time": "2019-09-09T16:50:20.107468Z"
    }
   },
   "outputs": [
    {
     "name": "stdout",
     "output_type": "stream",
     "text": [
      "1  0.723404255319149\n",
      "2  0.7393617021276596\n",
      "3  0.7446808510638298\n",
      "4  0.7393617021276596\n",
      "5  0.7180851063829787\n",
      "6  0.7180851063829787\n",
      "7  0.7340425531914894\n",
      "8  0.723404255319149\n",
      "9  0.723404255319149\n",
      "10  0.723404255319149\n",
      "11  0.7180851063829787\n",
      "12  0.723404255319149\n",
      "13  0.7180851063829787\n",
      "14  0.7074468085106383\n",
      "15  0.7074468085106383\n",
      "16  0.7074468085106383\n",
      "17  0.7074468085106383\n",
      "18  0.7074468085106383\n",
      "19  0.7074468085106383\n"
     ]
    }
   ],
   "source": [
    "for i in np.arange(1, 20, 1): \n",
    "    boost = XGBClassifier(max_depth=5, n_estimators=110, gamma=i)\n",
    "    mm_scaler = StandardScaler()\n",
    "    sj_X_train_minmax = mm_scaler.fit_transform(sj_X_train)\n",
    "    sj_X_test_minmax = mm_scaler.transform(sj_X_test) # only want to tranform X_test based on fit of X_train\n",
    "    boost.fit(sj_X_train_minmax, sj_y_train)\n",
    "#     print(\"baseline with scaling\")\n",
    "    print(str(i) + \"  \" + str(boost.score(sj_X_test_minmax, sj_y_test)))"
   ]
  },
  {
   "cell_type": "code",
   "execution_count": 115,
   "metadata": {
    "ExecuteTime": {
     "end_time": "2019-09-09T16:46:45.944390Z",
     "start_time": "2019-09-09T16:46:45.940587Z"
    }
   },
   "outputs": [
    {
     "name": "stdout",
     "output_type": "stream",
     "text": [
      "0.1\n",
      "0.2\n",
      "0.30000000000000004\n",
      "0.4\n",
      "0.5\n",
      "0.6\n",
      "0.7000000000000001\n",
      "0.8\n",
      "0.9\n",
      "1.0\n"
     ]
    }
   ],
   "source": [
    "for i in np.arange(): \n",
    "    print(i)"
   ]
  },
  {
   "cell_type": "code",
   "execution_count": null,
   "metadata": {},
   "outputs": [],
   "source": []
  },
  {
   "cell_type": "code",
   "execution_count": 74,
   "metadata": {
    "ExecuteTime": {
     "end_time": "2019-09-09T16:10:27.209613Z",
     "start_time": "2019-09-09T16:10:27.205199Z"
    }
   },
   "outputs": [],
   "source": []
  },
  {
   "cell_type": "code",
   "execution_count": 75,
   "metadata": {
    "ExecuteTime": {
     "end_time": "2019-09-09T16:10:40.161182Z",
     "start_time": "2019-09-09T16:10:40.158754Z"
    }
   },
   "outputs": [],
   "source": []
  },
  {
   "cell_type": "code",
   "execution_count": 82,
   "metadata": {
    "ExecuteTime": {
     "end_time": "2019-09-09T16:14:44.653583Z",
     "start_time": "2019-09-09T16:14:44.385016Z"
    }
   },
   "outputs": [
    {
     "data": {
      "text/plain": [
       "<matplotlib.legend.Legend at 0x1a18243710>"
      ]
     },
     "execution_count": 82,
     "metadata": {},
     "output_type": "execute_result"
    },
    {
     "data": {
      "image/png": "[encoded data removed]",
      "text/plain": [
       "<Figure size 720x576 with 1 Axes>"
      ]
     },
     "metadata": {
      "image/png": {
       "height": 503,
       "width": 614
      },
      "needs_background": "light"
     },
     "output_type": "display_data"
    }
   ],
   "source": [
    "plt.figure(figsize = (10,8))\n",
    "plt.plot([0,1], [0,1], 'r--')\n",
    "label = \"Logistic Regression AUC:\" + \" {0:.2f}\".format(roc_auc)\n",
    "plt.plot(fpr, tpr, c='g', label=label)\n",
    "plt.xlabel('False Positive Rate', fontsize = 16)\n",
    "plt.ylabel('True Positive Rate', fontsize = 16)\n",
    "plt.title('Receiver Operating Characteristic', fontsize = 16)\n",
    "plt.legend(loc = 'lower right', fontsize = 16)"
   ]
  },
  {
   "cell_type": "code",
   "execution_count": null,
   "metadata": {},
   "outputs": [],
   "source": []
  },
  {
   "cell_type": "code",
   "execution_count": null,
   "metadata": {},
   "outputs": [],
   "source": []
  },
  {
   "cell_type": "code",
   "execution_count": null,
   "metadata": {},
   "outputs": [],
   "source": []
  },
  {
   "cell_type": "code",
   "execution_count": null,
   "metadata": {
    "ExecuteTime": {
     "end_time": "2019-09-05T20:01:51.711991Z",
     "start_time": "2019-09-05T20:01:51.707729Z"
    }
   },
   "outputs": [],
   "source": []
  },
  {
   "cell_type": "code",
   "execution_count": null,
   "metadata": {},
   "outputs": [],
   "source": []
  }
 ],
 "metadata": {
  "kernelspec": {
   "display_name": "Python [conda env:metis] *",
   "language": "python",
   "name": "conda-env-metis-py"
  },
  "language_info": {
   "codemirror_mode": {
    "name": "ipython",
    "version": 3
   },
   "file_extension": ".py",
   "mimetype": "text/x-python",
   "name": "python",
   "nbconvert_exporter": "python",
   "pygments_lexer": "ipython3",
   "version": "3.6.8"
  },
  "toc": {
   "base_numbering": 1,
   "nav_menu": {},
   "number_sections": true,
   "sideBar": true,
   "skip_h1_title": false,
   "title_cell": "Table of Contents",
   "title_sidebar": "Contents",
   "toc_cell": false,
   "toc_position": {},
   "toc_section_display": true,
   "toc_window_display": false
  },
  "varInspector": {
   "cols": {
    "lenName": 16,
    "lenType": 16,
    "lenVar": 40
   },
   "kernels_config": {
    "python": {
     "delete_cmd_postfix": "",
     "delete_cmd_prefix": "del ",
     "library": "var_list.py",
     "varRefreshCmd": "print(var_dic_list())"
    },
    "r": {
     "delete_cmd_postfix": ") ",
     "delete_cmd_prefix": "rm(",
     "library": "var_list.r",
     "varRefreshCmd": "cat(var_dic_list()) "
    }
   },
   "types_to_exclude": [
    "module",
    "function",
    "builtin_function_or_method",
    "instance",
    "_Feature"
   ],
   "window_display": false
  }
 },
 "nbformat": 4,
 "nbformat_minor": 2
}
