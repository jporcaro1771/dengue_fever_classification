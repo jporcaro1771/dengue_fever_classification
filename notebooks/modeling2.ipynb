{
 "cells": [
  {
   "cell_type": "code",
   "execution_count": 34,
   "metadata": {
    "ExecuteTime": {
     "end_time": "2019-09-12T15:06:13.155701Z",
     "start_time": "2019-09-12T15:06:13.135821Z"
    }
   },
   "outputs": [],
   "source": [
    "%matplotlib inline\n",
    "%config InlineBackend.figure_formats = ['retina']\n",
    "\n",
    "import numpy as np\n",
    "import pandas as pd\n",
    "import pickle\n",
    "import matplotlib.pyplot as plt\n",
    "import seaborn as sns\n",
    "from ipywidgets import interactive, FloatSlider\n",
    "from collections import Counter\n",
    "\n",
    "from sklearn.preprocessing import MinMaxScaler, StandardScaler, LabelEncoder, PolynomialFeatures\n",
    "from sklearn.model_selection import train_test_split, GridSearchCV, cross_val_score, KFold, RandomizedSearchCV\n",
    "from sklearn.linear_model import LogisticRegression, RidgeClassifier\n",
    "from sklearn.neighbors import NearestNeighbors, KNeighborsClassifier\n",
    "from sklearn.naive_bayes import BernoulliNB, MultinomialNB, GaussianNB\n",
    "from sklearn.tree import DecisionTreeClassifier\n",
    "from sklearn.ensemble import RandomForestClassifier, GradientBoostingClassifier, VotingClassifier\n",
    "from sklearn.dummy import DummyClassifier\n",
    "from sklearn.metrics import accuracy_score, confusion_matrix, classification_report, precision_score, recall_score, log_loss, roc_curve, auc\n",
    "from sklearn import svm\n",
    "\n",
    "from xgboost import XGBClassifier, plot_importance\n",
    "\n",
    "from imblearn.over_sampling import RandomOverSampler\n"
   ]
  },
  {
   "cell_type": "code",
   "execution_count": 2,
   "metadata": {
    "ExecuteTime": {
     "end_time": "2019-09-12T15:01:23.677493Z",
     "start_time": "2019-09-12T15:01:23.674645Z"
    }
   },
   "outputs": [],
   "source": [
    "def scores(ytest, predict):\n",
    "    print(\"Recall:  \" + str(recall_score(ytest, predict)))\n",
    "    print(\"Accuracy:  \" + str(accuracy_score(ytest, predict)))\n",
    "    print()\n",
    "    print(confusion_matrix(ytest, predict))"
   ]
  },
  {
   "cell_type": "code",
   "execution_count": 3,
   "metadata": {
    "ExecuteTime": {
     "end_time": "2019-09-12T15:01:23.687795Z",
     "start_time": "2019-09-12T15:01:23.679059Z"
    }
   },
   "outputs": [],
   "source": [
    "with open('sj_df.pickle', 'rb') as read_file:\n",
    "    sj_df = pickle.load(read_file)\n",
    "    \n",
    "with open('iq_df.pickle', 'rb') as read_file:\n",
    "    iq_df = pickle.load(read_file)"
   ]
  },
  {
   "cell_type": "code",
   "execution_count": 4,
   "metadata": {
    "ExecuteTime": {
     "end_time": "2019-09-12T15:01:23.693326Z",
     "start_time": "2019-09-12T15:01:23.689469Z"
    }
   },
   "outputs": [],
   "source": [
    "sj_df['isFallorWinter'] = np.where(sj_df['weekofyear'] >= 35, 1, 0)"
   ]
  },
  {
   "cell_type": "code",
   "execution_count": 5,
   "metadata": {
    "ExecuteTime": {
     "end_time": "2019-09-12T15:01:23.699740Z",
     "start_time": "2019-09-12T15:01:23.694923Z"
    }
   },
   "outputs": [],
   "source": [
    "iq_df['q*Td'] = iq_df['reanalysis_specific_humidity_g_per_kg'] * iq_df['reanalysis_dew_point_temp_k']"
   ]
  },
  {
   "cell_type": "code",
   "execution_count": 6,
   "metadata": {
    "ExecuteTime": {
     "end_time": "2019-09-12T15:01:23.731779Z",
     "start_time": "2019-09-12T15:01:23.702208Z"
    }
   },
   "outputs": [
    {
     "data": {
      "text/html": [
       "<div>\n",
       "<style scoped>\n",
       "    .dataframe tbody tr th:only-of-type {\n",
       "        vertical-align: middle;\n",
       "    }\n",
       "\n",
       "    .dataframe tbody tr th {\n",
       "        vertical-align: top;\n",
       "    }\n",
       "\n",
       "    .dataframe thead th {\n",
       "        text-align: right;\n",
       "    }\n",
       "</style>\n",
       "<table border=\"1\" class=\"dataframe\">\n",
       "  <thead>\n",
       "    <tr style=\"text-align: right;\">\n",
       "      <th></th>\n",
       "      <th>outbreak</th>\n",
       "      <th>city</th>\n",
       "      <th>year</th>\n",
       "      <th>weekofyear</th>\n",
       "      <th>total_cases</th>\n",
       "      <th>week_start_date</th>\n",
       "      <th>ndvi_ne</th>\n",
       "      <th>ndvi_nw</th>\n",
       "      <th>ndvi_se</th>\n",
       "      <th>ndvi_sw</th>\n",
       "      <th>...</th>\n",
       "      <th>reanalysis_relative_humidity_percent</th>\n",
       "      <th>reanalysis_sat_precip_amt_mm</th>\n",
       "      <th>reanalysis_specific_humidity_g_per_kg</th>\n",
       "      <th>reanalysis_tdtr_k</th>\n",
       "      <th>station_avg_temp_c</th>\n",
       "      <th>station_diur_temp_rng_c</th>\n",
       "      <th>station_max_temp_c</th>\n",
       "      <th>station_min_temp_c</th>\n",
       "      <th>station_precip_mm</th>\n",
       "      <th>isFallorWinter</th>\n",
       "    </tr>\n",
       "  </thead>\n",
       "  <tbody>\n",
       "    <tr>\n",
       "      <th>0</th>\n",
       "      <td>0</td>\n",
       "      <td>sj</td>\n",
       "      <td>1990</td>\n",
       "      <td>18</td>\n",
       "      <td>4</td>\n",
       "      <td>1990-04-30</td>\n",
       "      <td>0.122600</td>\n",
       "      <td>0.103725</td>\n",
       "      <td>0.198483</td>\n",
       "      <td>0.177617</td>\n",
       "      <td>...</td>\n",
       "      <td>73.365714</td>\n",
       "      <td>12.42</td>\n",
       "      <td>14.012857</td>\n",
       "      <td>2.628571</td>\n",
       "      <td>25.442857</td>\n",
       "      <td>6.900000</td>\n",
       "      <td>29.4</td>\n",
       "      <td>20.0</td>\n",
       "      <td>16.0</td>\n",
       "      <td>0</td>\n",
       "    </tr>\n",
       "    <tr>\n",
       "      <th>1</th>\n",
       "      <td>0</td>\n",
       "      <td>sj</td>\n",
       "      <td>1990</td>\n",
       "      <td>19</td>\n",
       "      <td>5</td>\n",
       "      <td>1990-05-07</td>\n",
       "      <td>0.169900</td>\n",
       "      <td>0.142175</td>\n",
       "      <td>0.162357</td>\n",
       "      <td>0.155486</td>\n",
       "      <td>...</td>\n",
       "      <td>77.368571</td>\n",
       "      <td>22.82</td>\n",
       "      <td>15.372857</td>\n",
       "      <td>2.371429</td>\n",
       "      <td>26.714286</td>\n",
       "      <td>6.371429</td>\n",
       "      <td>31.7</td>\n",
       "      <td>22.2</td>\n",
       "      <td>8.6</td>\n",
       "      <td>0</td>\n",
       "    </tr>\n",
       "    <tr>\n",
       "      <th>2</th>\n",
       "      <td>0</td>\n",
       "      <td>sj</td>\n",
       "      <td>1990</td>\n",
       "      <td>20</td>\n",
       "      <td>4</td>\n",
       "      <td>1990-05-14</td>\n",
       "      <td>0.032250</td>\n",
       "      <td>0.172967</td>\n",
       "      <td>0.157200</td>\n",
       "      <td>0.170843</td>\n",
       "      <td>...</td>\n",
       "      <td>82.052857</td>\n",
       "      <td>34.54</td>\n",
       "      <td>16.848571</td>\n",
       "      <td>2.300000</td>\n",
       "      <td>26.714286</td>\n",
       "      <td>6.485714</td>\n",
       "      <td>32.2</td>\n",
       "      <td>22.8</td>\n",
       "      <td>41.4</td>\n",
       "      <td>0</td>\n",
       "    </tr>\n",
       "    <tr>\n",
       "      <th>3</th>\n",
       "      <td>0</td>\n",
       "      <td>sj</td>\n",
       "      <td>1990</td>\n",
       "      <td>21</td>\n",
       "      <td>3</td>\n",
       "      <td>1990-05-21</td>\n",
       "      <td>0.128633</td>\n",
       "      <td>0.245067</td>\n",
       "      <td>0.227557</td>\n",
       "      <td>0.235886</td>\n",
       "      <td>...</td>\n",
       "      <td>80.337143</td>\n",
       "      <td>15.36</td>\n",
       "      <td>16.672857</td>\n",
       "      <td>2.428571</td>\n",
       "      <td>27.471429</td>\n",
       "      <td>6.771429</td>\n",
       "      <td>33.3</td>\n",
       "      <td>23.3</td>\n",
       "      <td>4.0</td>\n",
       "      <td>0</td>\n",
       "    </tr>\n",
       "    <tr>\n",
       "      <th>4</th>\n",
       "      <td>0</td>\n",
       "      <td>sj</td>\n",
       "      <td>1990</td>\n",
       "      <td>22</td>\n",
       "      <td>6</td>\n",
       "      <td>1990-05-28</td>\n",
       "      <td>0.196200</td>\n",
       "      <td>0.262200</td>\n",
       "      <td>0.251200</td>\n",
       "      <td>0.247340</td>\n",
       "      <td>...</td>\n",
       "      <td>80.460000</td>\n",
       "      <td>7.52</td>\n",
       "      <td>17.210000</td>\n",
       "      <td>3.014286</td>\n",
       "      <td>28.942857</td>\n",
       "      <td>9.371429</td>\n",
       "      <td>35.0</td>\n",
       "      <td>23.9</td>\n",
       "      <td>5.8</td>\n",
       "      <td>0</td>\n",
       "    </tr>\n",
       "  </tbody>\n",
       "</table>\n",
       "<p>5 rows × 27 columns</p>\n",
       "</div>"
      ],
      "text/plain": [
       "   outbreak city  year  weekofyear  total_cases week_start_date   ndvi_ne  \\\n",
       "0         0   sj  1990          18            4      1990-04-30  0.122600   \n",
       "1         0   sj  1990          19            5      1990-05-07  0.169900   \n",
       "2         0   sj  1990          20            4      1990-05-14  0.032250   \n",
       "3         0   sj  1990          21            3      1990-05-21  0.128633   \n",
       "4         0   sj  1990          22            6      1990-05-28  0.196200   \n",
       "\n",
       "    ndvi_nw   ndvi_se   ndvi_sw  ...  reanalysis_relative_humidity_percent  \\\n",
       "0  0.103725  0.198483  0.177617  ...                             73.365714   \n",
       "1  0.142175  0.162357  0.155486  ...                             77.368571   \n",
       "2  0.172967  0.157200  0.170843  ...                             82.052857   \n",
       "3  0.245067  0.227557  0.235886  ...                             80.337143   \n",
       "4  0.262200  0.251200  0.247340  ...                             80.460000   \n",
       "\n",
       "   reanalysis_sat_precip_amt_mm  reanalysis_specific_humidity_g_per_kg  \\\n",
       "0                         12.42                              14.012857   \n",
       "1                         22.82                              15.372857   \n",
       "2                         34.54                              16.848571   \n",
       "3                         15.36                              16.672857   \n",
       "4                          7.52                              17.210000   \n",
       "\n",
       "   reanalysis_tdtr_k  station_avg_temp_c  station_diur_temp_rng_c  \\\n",
       "0           2.628571           25.442857                 6.900000   \n",
       "1           2.371429           26.714286                 6.371429   \n",
       "2           2.300000           26.714286                 6.485714   \n",
       "3           2.428571           27.471429                 6.771429   \n",
       "4           3.014286           28.942857                 9.371429   \n",
       "\n",
       "   station_max_temp_c  station_min_temp_c  station_precip_mm  isFallorWinter  \n",
       "0                29.4                20.0               16.0               0  \n",
       "1                31.7                22.2                8.6               0  \n",
       "2                32.2                22.8               41.4               0  \n",
       "3                33.3                23.3                4.0               0  \n",
       "4                35.0                23.9                5.8               0  \n",
       "\n",
       "[5 rows x 27 columns]"
      ]
     },
     "execution_count": 6,
     "metadata": {},
     "output_type": "execute_result"
    }
   ],
   "source": [
    "sj_df.head()"
   ]
  },
  {
   "cell_type": "code",
   "execution_count": 7,
   "metadata": {
    "ExecuteTime": {
     "end_time": "2019-09-12T15:01:23.738738Z",
     "start_time": "2019-09-12T15:01:23.733559Z"
    }
   },
   "outputs": [
    {
     "data": {
      "text/plain": [
       "0    495\n",
       "1    441\n",
       "Name: outbreak, dtype: int64"
      ]
     },
     "execution_count": 7,
     "metadata": {},
     "output_type": "execute_result"
    }
   ],
   "source": [
    "sj_df.outbreak.value_counts()"
   ]
  },
  {
   "cell_type": "code",
   "execution_count": 8,
   "metadata": {
    "ExecuteTime": {
     "end_time": "2019-09-12T15:01:23.759903Z",
     "start_time": "2019-09-12T15:01:23.740213Z"
    }
   },
   "outputs": [
    {
     "data": {
      "text/html": [
       "<div>\n",
       "<style scoped>\n",
       "    .dataframe tbody tr th:only-of-type {\n",
       "        vertical-align: middle;\n",
       "    }\n",
       "\n",
       "    .dataframe tbody tr th {\n",
       "        vertical-align: top;\n",
       "    }\n",
       "\n",
       "    .dataframe thead th {\n",
       "        text-align: right;\n",
       "    }\n",
       "</style>\n",
       "<table border=\"1\" class=\"dataframe\">\n",
       "  <thead>\n",
       "    <tr style=\"text-align: right;\">\n",
       "      <th></th>\n",
       "      <th>outbreak</th>\n",
       "      <th>city</th>\n",
       "      <th>year</th>\n",
       "      <th>weekofyear</th>\n",
       "      <th>total_cases</th>\n",
       "      <th>week_start_date</th>\n",
       "      <th>ndvi_ne</th>\n",
       "      <th>ndvi_nw</th>\n",
       "      <th>ndvi_se</th>\n",
       "      <th>ndvi_sw</th>\n",
       "      <th>...</th>\n",
       "      <th>reanalysis_relative_humidity_percent</th>\n",
       "      <th>reanalysis_sat_precip_amt_mm</th>\n",
       "      <th>reanalysis_specific_humidity_g_per_kg</th>\n",
       "      <th>reanalysis_tdtr_k</th>\n",
       "      <th>station_avg_temp_c</th>\n",
       "      <th>station_diur_temp_rng_c</th>\n",
       "      <th>station_max_temp_c</th>\n",
       "      <th>station_min_temp_c</th>\n",
       "      <th>station_precip_mm</th>\n",
       "      <th>q*Td</th>\n",
       "    </tr>\n",
       "  </thead>\n",
       "  <tbody>\n",
       "    <tr>\n",
       "      <th>1008</th>\n",
       "      <td>0</td>\n",
       "      <td>iq</td>\n",
       "      <td>2001</td>\n",
       "      <td>47</td>\n",
       "      <td>1</td>\n",
       "      <td>2001-11-19</td>\n",
       "      <td>0.329700</td>\n",
       "      <td>0.330417</td>\n",
       "      <td>0.340643</td>\n",
       "      <td>0.441571</td>\n",
       "      <td>...</td>\n",
       "      <td>88.837143</td>\n",
       "      <td>65.89</td>\n",
       "      <td>18.451429</td>\n",
       "      <td>9.228571</td>\n",
       "      <td>27.575000</td>\n",
       "      <td>11.575000</td>\n",
       "      <td>33.7</td>\n",
       "      <td>20.8</td>\n",
       "      <td>31.0</td>\n",
       "      <td>5475.514147</td>\n",
       "    </tr>\n",
       "    <tr>\n",
       "      <th>1009</th>\n",
       "      <td>0</td>\n",
       "      <td>iq</td>\n",
       "      <td>2001</td>\n",
       "      <td>48</td>\n",
       "      <td>1</td>\n",
       "      <td>2001-11-26</td>\n",
       "      <td>0.301500</td>\n",
       "      <td>0.361300</td>\n",
       "      <td>0.305571</td>\n",
       "      <td>0.369917</td>\n",
       "      <td>...</td>\n",
       "      <td>87.377143</td>\n",
       "      <td>47.46</td>\n",
       "      <td>17.427143</td>\n",
       "      <td>8.014286</td>\n",
       "      <td>28.233333</td>\n",
       "      <td>11.666667</td>\n",
       "      <td>35.3</td>\n",
       "      <td>21.8</td>\n",
       "      <td>12.2</td>\n",
       "      <td>5155.148024</td>\n",
       "    </tr>\n",
       "    <tr>\n",
       "      <th>1010</th>\n",
       "      <td>0</td>\n",
       "      <td>iq</td>\n",
       "      <td>2001</td>\n",
       "      <td>49</td>\n",
       "      <td>1</td>\n",
       "      <td>2001-12-03</td>\n",
       "      <td>0.325057</td>\n",
       "      <td>0.226471</td>\n",
       "      <td>0.299257</td>\n",
       "      <td>0.350471</td>\n",
       "      <td>...</td>\n",
       "      <td>87.240000</td>\n",
       "      <td>46.86</td>\n",
       "      <td>17.595714</td>\n",
       "      <td>8.871429</td>\n",
       "      <td>28.425000</td>\n",
       "      <td>11.650000</td>\n",
       "      <td>35.5</td>\n",
       "      <td>21.2</td>\n",
       "      <td>23.1</td>\n",
       "      <td>5208.004651</td>\n",
       "    </tr>\n",
       "    <tr>\n",
       "      <th>1011</th>\n",
       "      <td>0</td>\n",
       "      <td>iq</td>\n",
       "      <td>2001</td>\n",
       "      <td>50</td>\n",
       "      <td>2</td>\n",
       "      <td>2001-12-10</td>\n",
       "      <td>0.326033</td>\n",
       "      <td>0.235533</td>\n",
       "      <td>0.315571</td>\n",
       "      <td>0.306643</td>\n",
       "      <td>...</td>\n",
       "      <td>96.118571</td>\n",
       "      <td>138.22</td>\n",
       "      <td>19.305714</td>\n",
       "      <td>7.785714</td>\n",
       "      <td>27.840000</td>\n",
       "      <td>10.960000</td>\n",
       "      <td>35.0</td>\n",
       "      <td>21.0</td>\n",
       "      <td>75.0</td>\n",
       "      <td>5743.450000</td>\n",
       "    </tr>\n",
       "    <tr>\n",
       "      <th>1012</th>\n",
       "      <td>0</td>\n",
       "      <td>iq</td>\n",
       "      <td>2001</td>\n",
       "      <td>51</td>\n",
       "      <td>4</td>\n",
       "      <td>2001-12-17</td>\n",
       "      <td>0.222943</td>\n",
       "      <td>0.224071</td>\n",
       "      <td>0.212814</td>\n",
       "      <td>0.184129</td>\n",
       "      <td>...</td>\n",
       "      <td>93.947143</td>\n",
       "      <td>43.95</td>\n",
       "      <td>18.965714</td>\n",
       "      <td>7.385714</td>\n",
       "      <td>27.075000</td>\n",
       "      <td>9.500000</td>\n",
       "      <td>32.9</td>\n",
       "      <td>21.0</td>\n",
       "      <td>57.9</td>\n",
       "      <td>5636.827037</td>\n",
       "    </tr>\n",
       "  </tbody>\n",
       "</table>\n",
       "<p>5 rows × 27 columns</p>\n",
       "</div>"
      ],
      "text/plain": [
       "      outbreak city  year  weekofyear  total_cases week_start_date   ndvi_ne  \\\n",
       "1008         0   iq  2001          47            1      2001-11-19  0.329700   \n",
       "1009         0   iq  2001          48            1      2001-11-26  0.301500   \n",
       "1010         0   iq  2001          49            1      2001-12-03  0.325057   \n",
       "1011         0   iq  2001          50            2      2001-12-10  0.326033   \n",
       "1012         0   iq  2001          51            4      2001-12-17  0.222943   \n",
       "\n",
       "       ndvi_nw   ndvi_se   ndvi_sw  ...  reanalysis_relative_humidity_percent  \\\n",
       "1008  0.330417  0.340643  0.441571  ...                             88.837143   \n",
       "1009  0.361300  0.305571  0.369917  ...                             87.377143   \n",
       "1010  0.226471  0.299257  0.350471  ...                             87.240000   \n",
       "1011  0.235533  0.315571  0.306643  ...                             96.118571   \n",
       "1012  0.224071  0.212814  0.184129  ...                             93.947143   \n",
       "\n",
       "      reanalysis_sat_precip_amt_mm  reanalysis_specific_humidity_g_per_kg  \\\n",
       "1008                         65.89                              18.451429   \n",
       "1009                         47.46                              17.427143   \n",
       "1010                         46.86                              17.595714   \n",
       "1011                        138.22                              19.305714   \n",
       "1012                         43.95                              18.965714   \n",
       "\n",
       "      reanalysis_tdtr_k  station_avg_temp_c  station_diur_temp_rng_c  \\\n",
       "1008           9.228571           27.575000                11.575000   \n",
       "1009           8.014286           28.233333                11.666667   \n",
       "1010           8.871429           28.425000                11.650000   \n",
       "1011           7.785714           27.840000                10.960000   \n",
       "1012           7.385714           27.075000                 9.500000   \n",
       "\n",
       "      station_max_temp_c  station_min_temp_c  station_precip_mm         q*Td  \n",
       "1008                33.7                20.8               31.0  5475.514147  \n",
       "1009                35.3                21.8               12.2  5155.148024  \n",
       "1010                35.5                21.2               23.1  5208.004651  \n",
       "1011                35.0                21.0               75.0  5743.450000  \n",
       "1012                32.9                21.0               57.9  5636.827037  \n",
       "\n",
       "[5 rows x 27 columns]"
      ]
     },
     "execution_count": 8,
     "metadata": {},
     "output_type": "execute_result"
    }
   ],
   "source": [
    "iq_df.head()"
   ]
  },
  {
   "cell_type": "code",
   "execution_count": 9,
   "metadata": {
    "ExecuteTime": {
     "end_time": "2019-09-12T15:01:23.766135Z",
     "start_time": "2019-09-12T15:01:23.761365Z"
    }
   },
   "outputs": [
    {
     "data": {
      "text/plain": [
       "0    376\n",
       "1     72\n",
       "Name: outbreak, dtype: int64"
      ]
     },
     "execution_count": 9,
     "metadata": {},
     "output_type": "execute_result"
    }
   ],
   "source": [
    "iq_df.outbreak.value_counts()"
   ]
  },
  {
   "cell_type": "code",
   "execution_count": 10,
   "metadata": {
    "ExecuteTime": {
     "end_time": "2019-09-12T15:01:23.799151Z",
     "start_time": "2019-09-12T15:01:23.767493Z"
    }
   },
   "outputs": [],
   "source": [
    "mm_scaler = MinMaxScaler()\n",
    "sj_train, sj_validate, sj_test = np.split(sj_df.sample(frac=1), [int(.6*len(sj_df)), int(.8*len(sj_df))])\n",
    "\n",
    "sj_X_train = sj_train.iloc[:,6:]\n",
    "sj_y_train = sj_train.iloc[:,0]\n",
    "\n",
    "sj_X_val = sj_validate.iloc[:,6:]\n",
    "sj_y_val = sj_validate.iloc[:,0]\n",
    "\n",
    "sj_X_test = sj_test.iloc[:,6:]\n",
    "sj_y_test = sj_test.iloc[:,0]\n",
    "\n",
    "sj_X_train_mm = mm_scaler.fit_transform(sj_X_train)\n",
    "sj_X_val_mm = mm_scaler.fit_transform(sj_X_val)\n",
    "sj_X_test_mm = mm_scaler.fit_transform(sj_X_test)\n",
    "\n",
    "iq_train, iq_validate, iq_test = np.split(iq_df.sample(frac=1), [int(.6*len(iq_df)), int(.8*len(iq_df))])\n",
    "\n",
    "iq_X_train = iq_train.iloc[:,6:]\n",
    "iq_y_train = iq_train.iloc[:,0]\n",
    "\n",
    "iq_X_val = iq_validate.iloc[:,6:]\n",
    "iq_y_val = iq_validate.iloc[:,0]\n",
    "\n",
    "iq_X_test = iq_test.iloc[:,6:]\n",
    "iq_y_test = iq_test.iloc[:,0]\n",
    "\n",
    "iq_X_train_mm = mm_scaler.fit_transform(iq_X_train)\n",
    "iq_X_val_mm = mm_scaler.fit_transform(iq_X_val)\n",
    "iq_X_test_mm = mm_scaler.fit_transform(iq_X_test)"
   ]
  },
  {
   "cell_type": "code",
   "execution_count": 11,
   "metadata": {
    "ExecuteTime": {
     "end_time": "2019-09-12T15:01:23.821395Z",
     "start_time": "2019-09-12T15:01:23.800630Z"
    }
   },
   "outputs": [
    {
     "data": {
      "text/html": [
       "<div>\n",
       "<style scoped>\n",
       "    .dataframe tbody tr th:only-of-type {\n",
       "        vertical-align: middle;\n",
       "    }\n",
       "\n",
       "    .dataframe tbody tr th {\n",
       "        vertical-align: top;\n",
       "    }\n",
       "\n",
       "    .dataframe thead th {\n",
       "        text-align: right;\n",
       "    }\n",
       "</style>\n",
       "<table border=\"1\" class=\"dataframe\">\n",
       "  <thead>\n",
       "    <tr style=\"text-align: right;\">\n",
       "      <th></th>\n",
       "      <th>outbreak</th>\n",
       "      <th>city</th>\n",
       "      <th>year</th>\n",
       "      <th>weekofyear</th>\n",
       "      <th>total_cases</th>\n",
       "      <th>week_start_date</th>\n",
       "      <th>ndvi_ne</th>\n",
       "      <th>ndvi_nw</th>\n",
       "      <th>ndvi_se</th>\n",
       "      <th>ndvi_sw</th>\n",
       "      <th>...</th>\n",
       "      <th>reanalysis_relative_humidity_percent</th>\n",
       "      <th>reanalysis_sat_precip_amt_mm</th>\n",
       "      <th>reanalysis_specific_humidity_g_per_kg</th>\n",
       "      <th>reanalysis_tdtr_k</th>\n",
       "      <th>station_avg_temp_c</th>\n",
       "      <th>station_diur_temp_rng_c</th>\n",
       "      <th>station_max_temp_c</th>\n",
       "      <th>station_min_temp_c</th>\n",
       "      <th>station_precip_mm</th>\n",
       "      <th>isFallorWinter</th>\n",
       "    </tr>\n",
       "  </thead>\n",
       "  <tbody>\n",
       "    <tr>\n",
       "      <th>240</th>\n",
       "      <td>1</td>\n",
       "      <td>sj</td>\n",
       "      <td>1994</td>\n",
       "      <td>49</td>\n",
       "      <td>221</td>\n",
       "      <td>1994-12-10</td>\n",
       "      <td>0.206684</td>\n",
       "      <td>0.050855</td>\n",
       "      <td>0.191304</td>\n",
       "      <td>0.194407</td>\n",
       "      <td>...</td>\n",
       "      <td>85.570000</td>\n",
       "      <td>45.95</td>\n",
       "      <td>16.580000</td>\n",
       "      <td>1.500000</td>\n",
       "      <td>26.371429</td>\n",
       "      <td>6.185714</td>\n",
       "      <td>30.0</td>\n",
       "      <td>22.2</td>\n",
       "      <td>58.2</td>\n",
       "      <td>1</td>\n",
       "    </tr>\n",
       "    <tr>\n",
       "      <th>334</th>\n",
       "      <td>1</td>\n",
       "      <td>sj</td>\n",
       "      <td>1996</td>\n",
       "      <td>40</td>\n",
       "      <td>30</td>\n",
       "      <td>1996-09-30</td>\n",
       "      <td>-0.038500</td>\n",
       "      <td>0.068133</td>\n",
       "      <td>0.165129</td>\n",
       "      <td>0.195214</td>\n",
       "      <td>...</td>\n",
       "      <td>79.177143</td>\n",
       "      <td>27.58</td>\n",
       "      <td>17.521429</td>\n",
       "      <td>2.100000</td>\n",
       "      <td>27.414286</td>\n",
       "      <td>5.885714</td>\n",
       "      <td>31.1</td>\n",
       "      <td>23.9</td>\n",
       "      <td>20.9</td>\n",
       "      <td>1</td>\n",
       "    </tr>\n",
       "    <tr>\n",
       "      <th>853</th>\n",
       "      <td>1</td>\n",
       "      <td>sj</td>\n",
       "      <td>2006</td>\n",
       "      <td>38</td>\n",
       "      <td>33</td>\n",
       "      <td>2006-09-24</td>\n",
       "      <td>-0.055600</td>\n",
       "      <td>-0.016200</td>\n",
       "      <td>0.197700</td>\n",
       "      <td>0.171929</td>\n",
       "      <td>...</td>\n",
       "      <td>75.861429</td>\n",
       "      <td>27.18</td>\n",
       "      <td>18.210000</td>\n",
       "      <td>3.414286</td>\n",
       "      <td>28.828571</td>\n",
       "      <td>6.800000</td>\n",
       "      <td>33.3</td>\n",
       "      <td>23.9</td>\n",
       "      <td>2.3</td>\n",
       "      <td>1</td>\n",
       "    </tr>\n",
       "    <tr>\n",
       "      <th>349</th>\n",
       "      <td>1</td>\n",
       "      <td>sj</td>\n",
       "      <td>1997</td>\n",
       "      <td>3</td>\n",
       "      <td>33</td>\n",
       "      <td>1997-01-15</td>\n",
       "      <td>-0.145900</td>\n",
       "      <td>0.033800</td>\n",
       "      <td>0.223371</td>\n",
       "      <td>0.217086</td>\n",
       "      <td>...</td>\n",
       "      <td>74.940000</td>\n",
       "      <td>0.00</td>\n",
       "      <td>14.278571</td>\n",
       "      <td>2.242857</td>\n",
       "      <td>24.385714</td>\n",
       "      <td>6.657143</td>\n",
       "      <td>28.9</td>\n",
       "      <td>19.4</td>\n",
       "      <td>0.6</td>\n",
       "      <td>0</td>\n",
       "    </tr>\n",
       "    <tr>\n",
       "      <th>768</th>\n",
       "      <td>0</td>\n",
       "      <td>sj</td>\n",
       "      <td>2005</td>\n",
       "      <td>5</td>\n",
       "      <td>8</td>\n",
       "      <td>2005-02-05</td>\n",
       "      <td>0.044200</td>\n",
       "      <td>-0.075800</td>\n",
       "      <td>0.205600</td>\n",
       "      <td>0.178143</td>\n",
       "      <td>...</td>\n",
       "      <td>78.640000</td>\n",
       "      <td>0.00</td>\n",
       "      <td>13.770000</td>\n",
       "      <td>1.971429</td>\n",
       "      <td>23.714286</td>\n",
       "      <td>4.528571</td>\n",
       "      <td>27.8</td>\n",
       "      <td>19.4</td>\n",
       "      <td>5.4</td>\n",
       "      <td>0</td>\n",
       "    </tr>\n",
       "  </tbody>\n",
       "</table>\n",
       "<p>5 rows × 27 columns</p>\n",
       "</div>"
      ],
      "text/plain": [
       "     outbreak city  year  weekofyear  total_cases week_start_date   ndvi_ne  \\\n",
       "240         1   sj  1994          49          221      1994-12-10  0.206684   \n",
       "334         1   sj  1996          40           30      1996-09-30 -0.038500   \n",
       "853         1   sj  2006          38           33      2006-09-24 -0.055600   \n",
       "349         1   sj  1997           3           33      1997-01-15 -0.145900   \n",
       "768         0   sj  2005           5            8      2005-02-05  0.044200   \n",
       "\n",
       "      ndvi_nw   ndvi_se   ndvi_sw  ...  reanalysis_relative_humidity_percent  \\\n",
       "240  0.050855  0.191304  0.194407  ...                             85.570000   \n",
       "334  0.068133  0.165129  0.195214  ...                             79.177143   \n",
       "853 -0.016200  0.197700  0.171929  ...                             75.861429   \n",
       "349  0.033800  0.223371  0.217086  ...                             74.940000   \n",
       "768 -0.075800  0.205600  0.178143  ...                             78.640000   \n",
       "\n",
       "     reanalysis_sat_precip_amt_mm  reanalysis_specific_humidity_g_per_kg  \\\n",
       "240                         45.95                              16.580000   \n",
       "334                         27.58                              17.521429   \n",
       "853                         27.18                              18.210000   \n",
       "349                          0.00                              14.278571   \n",
       "768                          0.00                              13.770000   \n",
       "\n",
       "     reanalysis_tdtr_k  station_avg_temp_c  station_diur_temp_rng_c  \\\n",
       "240           1.500000           26.371429                 6.185714   \n",
       "334           2.100000           27.414286                 5.885714   \n",
       "853           3.414286           28.828571                 6.800000   \n",
       "349           2.242857           24.385714                 6.657143   \n",
       "768           1.971429           23.714286                 4.528571   \n",
       "\n",
       "     station_max_temp_c  station_min_temp_c  station_precip_mm  isFallorWinter  \n",
       "240                30.0                22.2               58.2               1  \n",
       "334                31.1                23.9               20.9               1  \n",
       "853                33.3                23.9                2.3               1  \n",
       "349                28.9                19.4                0.6               0  \n",
       "768                27.8                19.4                5.4               0  \n",
       "\n",
       "[5 rows x 27 columns]"
      ]
     },
     "execution_count": 11,
     "metadata": {},
     "output_type": "execute_result"
    }
   ],
   "source": [
    "sj_train.head()"
   ]
  },
  {
   "cell_type": "code",
   "execution_count": null,
   "metadata": {},
   "outputs": [],
   "source": []
  },
  {
   "cell_type": "code",
   "execution_count": null,
   "metadata": {},
   "outputs": [],
   "source": []
  },
  {
   "cell_type": "code",
   "execution_count": 12,
   "metadata": {
    "ExecuteTime": {
     "end_time": "2019-09-12T15:01:23.835521Z",
     "start_time": "2019-09-12T15:01:23.823295Z"
    }
   },
   "outputs": [
    {
     "name": "stderr",
     "output_type": "stream",
     "text": [
      "/Users/joelporcaro/anaconda3/envs/metis/lib/python3.6/site-packages/sklearn/linear_model/logistic.py:432: FutureWarning: Default solver will be changed to 'lbfgs' in 0.22. Specify a solver to silence this warning.\n",
      "  FutureWarning)\n"
     ]
    }
   ],
   "source": [
    "logit_sj = LogisticRegression(C=100, penalty='l2')\n",
    "logit_sj_fit = logit_sj.fit(sj_X_train_mm, sj_y_train)\n",
    "logit_sj_predict = logit_sj_fit.predict(sj_X_val_mm)"
   ]
  },
  {
   "cell_type": "code",
   "execution_count": 13,
   "metadata": {
    "ExecuteTime": {
     "end_time": "2019-09-12T15:01:23.859731Z",
     "start_time": "2019-09-12T15:01:23.837425Z"
    }
   },
   "outputs": [
    {
     "name": "stdout",
     "output_type": "stream",
     "text": [
      "0.7130372945638432\n"
     ]
    },
    {
     "name": "stderr",
     "output_type": "stream",
     "text": [
      "/Users/joelporcaro/anaconda3/envs/metis/lib/python3.6/site-packages/sklearn/linear_model/logistic.py:432: FutureWarning: Default solver will be changed to 'lbfgs' in 0.22. Specify a solver to silence this warning.\n",
      "  FutureWarning)\n",
      "/Users/joelporcaro/anaconda3/envs/metis/lib/python3.6/site-packages/sklearn/linear_model/logistic.py:432: FutureWarning: Default solver will be changed to 'lbfgs' in 0.22. Specify a solver to silence this warning.\n",
      "  FutureWarning)\n",
      "/Users/joelporcaro/anaconda3/envs/metis/lib/python3.6/site-packages/sklearn/linear_model/logistic.py:432: FutureWarning: Default solver will be changed to 'lbfgs' in 0.22. Specify a solver to silence this warning.\n",
      "  FutureWarning)\n",
      "/Users/joelporcaro/anaconda3/envs/metis/lib/python3.6/site-packages/sklearn/linear_model/logistic.py:432: FutureWarning: Default solver will be changed to 'lbfgs' in 0.22. Specify a solver to silence this warning.\n",
      "  FutureWarning)\n",
      "/Users/joelporcaro/anaconda3/envs/metis/lib/python3.6/site-packages/sklearn/linear_model/logistic.py:432: FutureWarning: Default solver will be changed to 'lbfgs' in 0.22. Specify a solver to silence this warning.\n",
      "  FutureWarning)\n"
     ]
    }
   ],
   "source": [
    "kf = KFold(n_splits=5, shuffle=True, random_state=42)\n",
    "print(np.mean(cross_val_score(logit_sj, sj_X_train_mm, sj_y_train, cv=kf)))"
   ]
  },
  {
   "cell_type": "code",
   "execution_count": 14,
   "metadata": {
    "ExecuteTime": {
     "end_time": "2019-09-12T15:01:23.866772Z",
     "start_time": "2019-09-12T15:01:23.861186Z"
    }
   },
   "outputs": [
    {
     "name": "stdout",
     "output_type": "stream",
     "text": [
      "Recall:  0.4875\n",
      "Accuracy:  0.6363636363636364\n",
      "\n",
      "[[80 27]\n",
      " [41 39]]\n"
     ]
    }
   ],
   "source": [
    "scores(sj_y_val, logit_sj_predict)"
   ]
  },
  {
   "cell_type": "code",
   "execution_count": 15,
   "metadata": {
    "ExecuteTime": {
     "end_time": "2019-09-12T15:01:23.873399Z",
     "start_time": "2019-09-12T15:01:23.868328Z"
    }
   },
   "outputs": [],
   "source": [
    "def make_confusion_matrix(model, X_test, y_test, threshold=0.5):\n",
    "    # Predict class 1 if probability of being in class 1 is greater than threshold\n",
    "    # (model.predict(X_test) does this automatically with a threshold of 0.5)\n",
    "    y_predict = (model.predict_proba(X_test)[:, 1] >= threshold)\n",
    "    fraud_confusion = confusion_matrix(y_test, y_predict)\n",
    "    plt.figure(dpi=80)\n",
    "    sns.heatmap(fraud_confusion, cmap=plt.cm.Blues, annot=True, square=True, fmt='d',\n",
    "           xticklabels=['healthy', 'outbreak'],\n",
    "           yticklabels=['healthy', 'outbreak']);\n",
    "    plt.xlabel('prediction')\n",
    "    plt.ylabel('actual')"
   ]
  },
  {
   "cell_type": "code",
   "execution_count": 16,
   "metadata": {
    "ExecuteTime": {
     "end_time": "2019-09-12T15:01:24.068984Z",
     "start_time": "2019-09-12T15:01:23.874950Z"
    }
   },
   "outputs": [
    {
     "data": {
      "application/vnd.jupyter.widget-view+json": {
       "model_id": "c5524a261b1f4e9ea19fbee1c30c7aa2",
       "version_major": 2,
       "version_minor": 0
      },
      "text/plain": [
       "interactive(children=(FloatSlider(value=0.5, description='threshold', max=1.0, step=0.02), Output()), _dom_cla…"
      ]
     },
     "metadata": {},
     "output_type": "display_data"
    }
   ],
   "source": [
    "interactive(lambda threshold: make_confusion_matrix(logit_sj, sj_X_val_mm, sj_y_val, threshold), threshold=(0.0,1.0,0.02))"
   ]
  },
  {
   "cell_type": "code",
   "execution_count": 17,
   "metadata": {
    "ExecuteTime": {
     "end_time": "2019-09-12T15:01:24.073025Z",
     "start_time": "2019-09-12T15:01:24.070380Z"
    }
   },
   "outputs": [],
   "source": [
    "sj_predictions = logit_sj_fit.predict_proba(sj_X_test_mm)[:,1]\n",
    "sj_predict_final = np.where(sj_predictions > 0.3, 1, 0)"
   ]
  },
  {
   "cell_type": "code",
   "execution_count": 65,
   "metadata": {
    "ExecuteTime": {
     "end_time": "2019-09-15T20:34:57.517849Z",
     "start_time": "2019-09-15T20:34:57.459922Z"
    }
   },
   "outputs": [
    {
     "name": "stdout",
     "output_type": "stream",
     "text": [
      "Recall:  0.8369565217391305\n",
      "Accuracy:  0.6648936170212766\n",
      "\n",
      "[[48 48]\n",
      " [15 77]]\n"
     ]
    }
   ],
   "source": [
    "scores(sj_y_test, sj_predict_final)"
   ]
  },
  {
   "cell_type": "code",
   "execution_count": null,
   "metadata": {
    "ExecuteTime": {
     "end_time": "2019-09-11T21:48:01.969537Z",
     "start_time": "2019-09-11T21:48:01.963325Z"
    }
   },
   "outputs": [],
   "source": []
  },
  {
   "cell_type": "code",
   "execution_count": null,
   "metadata": {
    "ExecuteTime": {
     "end_time": "2019-09-11T21:46:50.837440Z",
     "start_time": "2019-09-11T21:46:50.832469Z"
    }
   },
   "outputs": [],
   "source": []
  },
  {
   "cell_type": "code",
   "execution_count": null,
   "metadata": {},
   "outputs": [],
   "source": []
  },
  {
   "cell_type": "code",
   "execution_count": 19,
   "metadata": {
    "ExecuteTime": {
     "end_time": "2019-09-12T15:01:24.103589Z",
     "start_time": "2019-09-12T15:01:24.083267Z"
    }
   },
   "outputs": [
    {
     "data": {
      "text/html": [
       "<div>\n",
       "<style scoped>\n",
       "    .dataframe tbody tr th:only-of-type {\n",
       "        vertical-align: middle;\n",
       "    }\n",
       "\n",
       "    .dataframe tbody tr th {\n",
       "        vertical-align: top;\n",
       "    }\n",
       "\n",
       "    .dataframe thead th {\n",
       "        text-align: right;\n",
       "    }\n",
       "</style>\n",
       "<table border=\"1\" class=\"dataframe\">\n",
       "  <thead>\n",
       "    <tr style=\"text-align: right;\">\n",
       "      <th></th>\n",
       "      <th>index</th>\n",
       "      <th>ndvi_ne</th>\n",
       "      <th>ndvi_nw</th>\n",
       "      <th>ndvi_se</th>\n",
       "      <th>ndvi_sw</th>\n",
       "      <th>precipitation_amt_mm</th>\n",
       "      <th>reanalysis_air_temp_k</th>\n",
       "      <th>reanalysis_avg_temp_k</th>\n",
       "      <th>reanalysis_dew_point_temp_k</th>\n",
       "      <th>reanalysis_max_air_temp_k</th>\n",
       "      <th>...</th>\n",
       "      <th>reanalysis_relative_humidity_percent</th>\n",
       "      <th>reanalysis_sat_precip_amt_mm</th>\n",
       "      <th>reanalysis_specific_humidity_g_per_kg</th>\n",
       "      <th>reanalysis_tdtr_k</th>\n",
       "      <th>station_avg_temp_c</th>\n",
       "      <th>station_diur_temp_rng_c</th>\n",
       "      <th>station_max_temp_c</th>\n",
       "      <th>station_min_temp_c</th>\n",
       "      <th>station_precip_mm</th>\n",
       "      <th>q*Td</th>\n",
       "    </tr>\n",
       "  </thead>\n",
       "  <tbody>\n",
       "    <tr>\n",
       "      <th>0</th>\n",
       "      <td>1080</td>\n",
       "      <td>0.205243</td>\n",
       "      <td>0.184200</td>\n",
       "      <td>0.193129</td>\n",
       "      <td>0.208786</td>\n",
       "      <td>78.590</td>\n",
       "      <td>298.082857</td>\n",
       "      <td>298.971429</td>\n",
       "      <td>297.358571</td>\n",
       "      <td>305.9</td>\n",
       "      <td>...</td>\n",
       "      <td>96.270000</td>\n",
       "      <td>78.590</td>\n",
       "      <td>19.078571</td>\n",
       "      <td>7.028571</td>\n",
       "      <td>28.175000</td>\n",
       "      <td>9.675000</td>\n",
       "      <td>34.50</td>\n",
       "      <td>22.90</td>\n",
       "      <td>79.00</td>\n",
       "      <td>5673.176745</td>\n",
       "    </tr>\n",
       "    <tr>\n",
       "      <th>1</th>\n",
       "      <td>1069</td>\n",
       "      <td>0.224957</td>\n",
       "      <td>0.260271</td>\n",
       "      <td>0.206929</td>\n",
       "      <td>0.289500</td>\n",
       "      <td>84.050</td>\n",
       "      <td>298.125714</td>\n",
       "      <td>299.564286</td>\n",
       "      <td>295.001429</td>\n",
       "      <td>307.7</td>\n",
       "      <td>...</td>\n",
       "      <td>84.460000</td>\n",
       "      <td>84.050</td>\n",
       "      <td>16.514286</td>\n",
       "      <td>10.271429</td>\n",
       "      <td>28.400000</td>\n",
       "      <td>10.600000</td>\n",
       "      <td>34.20</td>\n",
       "      <td>23.00</td>\n",
       "      <td>67.10</td>\n",
       "      <td>4871.737878</td>\n",
       "    </tr>\n",
       "    <tr>\n",
       "      <th>2</th>\n",
       "      <td>1195</td>\n",
       "      <td>0.291557</td>\n",
       "      <td>0.246071</td>\n",
       "      <td>0.351857</td>\n",
       "      <td>0.260457</td>\n",
       "      <td>50.880</td>\n",
       "      <td>297.857143</td>\n",
       "      <td>299.057143</td>\n",
       "      <td>294.644286</td>\n",
       "      <td>307.7</td>\n",
       "      <td>...</td>\n",
       "      <td>84.467143</td>\n",
       "      <td>50.880</td>\n",
       "      <td>16.168571</td>\n",
       "      <td>10.485714</td>\n",
       "      <td>27.350000</td>\n",
       "      <td>9.550000</td>\n",
       "      <td>32.80</td>\n",
       "      <td>22.40</td>\n",
       "      <td>89.20</td>\n",
       "      <td>4763.977180</td>\n",
       "    </tr>\n",
       "    <tr>\n",
       "      <th>3</th>\n",
       "      <td>1039</td>\n",
       "      <td>0.179171</td>\n",
       "      <td>0.279100</td>\n",
       "      <td>0.132614</td>\n",
       "      <td>0.213286</td>\n",
       "      <td>3.180</td>\n",
       "      <td>295.808571</td>\n",
       "      <td>296.907143</td>\n",
       "      <td>292.147143</td>\n",
       "      <td>305.3</td>\n",
       "      <td>...</td>\n",
       "      <td>82.167143</td>\n",
       "      <td>3.180</td>\n",
       "      <td>13.870000</td>\n",
       "      <td>10.728571</td>\n",
       "      <td>26.150000</td>\n",
       "      <td>10.800000</td>\n",
       "      <td>32.60</td>\n",
       "      <td>18.60</td>\n",
       "      <td>7.10</td>\n",
       "      <td>4052.080871</td>\n",
       "    </tr>\n",
       "    <tr>\n",
       "      <th>4</th>\n",
       "      <td>1118</td>\n",
       "      <td>0.202571</td>\n",
       "      <td>0.198967</td>\n",
       "      <td>0.244557</td>\n",
       "      <td>0.187957</td>\n",
       "      <td>63.975</td>\n",
       "      <td>296.867143</td>\n",
       "      <td>297.896429</td>\n",
       "      <td>296.160000</td>\n",
       "      <td>303.3</td>\n",
       "      <td>...</td>\n",
       "      <td>96.365714</td>\n",
       "      <td>63.975</td>\n",
       "      <td>17.714286</td>\n",
       "      <td>5.192857</td>\n",
       "      <td>27.366667</td>\n",
       "      <td>9.133333</td>\n",
       "      <td>33.65</td>\n",
       "      <td>22.35</td>\n",
       "      <td>161.45</td>\n",
       "      <td>5246.262857</td>\n",
       "    </tr>\n",
       "  </tbody>\n",
       "</table>\n",
       "<p>5 rows × 22 columns</p>\n",
       "</div>"
      ],
      "text/plain": [
       "   index   ndvi_ne   ndvi_nw   ndvi_se   ndvi_sw  precipitation_amt_mm  \\\n",
       "0   1080  0.205243  0.184200  0.193129  0.208786                78.590   \n",
       "1   1069  0.224957  0.260271  0.206929  0.289500                84.050   \n",
       "2   1195  0.291557  0.246071  0.351857  0.260457                50.880   \n",
       "3   1039  0.179171  0.279100  0.132614  0.213286                 3.180   \n",
       "4   1118  0.202571  0.198967  0.244557  0.187957                63.975   \n",
       "\n",
       "   reanalysis_air_temp_k  reanalysis_avg_temp_k  reanalysis_dew_point_temp_k  \\\n",
       "0             298.082857             298.971429                   297.358571   \n",
       "1             298.125714             299.564286                   295.001429   \n",
       "2             297.857143             299.057143                   294.644286   \n",
       "3             295.808571             296.907143                   292.147143   \n",
       "4             296.867143             297.896429                   296.160000   \n",
       "\n",
       "   reanalysis_max_air_temp_k  ...  reanalysis_relative_humidity_percent  \\\n",
       "0                      305.9  ...                             96.270000   \n",
       "1                      307.7  ...                             84.460000   \n",
       "2                      307.7  ...                             84.467143   \n",
       "3                      305.3  ...                             82.167143   \n",
       "4                      303.3  ...                             96.365714   \n",
       "\n",
       "   reanalysis_sat_precip_amt_mm  reanalysis_specific_humidity_g_per_kg  \\\n",
       "0                        78.590                              19.078571   \n",
       "1                        84.050                              16.514286   \n",
       "2                        50.880                              16.168571   \n",
       "3                         3.180                              13.870000   \n",
       "4                        63.975                              17.714286   \n",
       "\n",
       "   reanalysis_tdtr_k  station_avg_temp_c  station_diur_temp_rng_c  \\\n",
       "0           7.028571           28.175000                 9.675000   \n",
       "1          10.271429           28.400000                10.600000   \n",
       "2          10.485714           27.350000                 9.550000   \n",
       "3          10.728571           26.150000                10.800000   \n",
       "4           5.192857           27.366667                 9.133333   \n",
       "\n",
       "   station_max_temp_c  station_min_temp_c  station_precip_mm         q*Td  \n",
       "0               34.50               22.90              79.00  5673.176745  \n",
       "1               34.20               23.00              67.10  4871.737878  \n",
       "2               32.80               22.40              89.20  4763.977180  \n",
       "3               32.60               18.60               7.10  4052.080871  \n",
       "4               33.65               22.35             161.45  5246.262857  \n",
       "\n",
       "[5 rows x 22 columns]"
      ]
     },
     "execution_count": 19,
     "metadata": {},
     "output_type": "execute_result"
    }
   ],
   "source": [
    "iq_X_train.reset_index().head()"
   ]
  },
  {
   "cell_type": "code",
   "execution_count": 42,
   "metadata": {
    "ExecuteTime": {
     "end_time": "2019-09-12T15:09:27.599791Z",
     "start_time": "2019-09-12T15:09:27.594942Z"
    }
   },
   "outputs": [],
   "source": [
    "ros = RandomOverSampler(random_state=0)\n",
    "iq_X_train_mm_resampled, iq_y_train_resampled = ros.fit_sample(iq_X_train_mm, iq_y_train)\n",
    "iq_X_val_mm_resampled, iq_y_val_resampled = ros.fit_sample(iq_X_val_mm, iq_y_val)"
   ]
  },
  {
   "cell_type": "code",
   "execution_count": 43,
   "metadata": {
    "ExecuteTime": {
     "end_time": "2019-09-12T15:09:29.514913Z",
     "start_time": "2019-09-12T15:09:29.511845Z"
    }
   },
   "outputs": [
    {
     "data": {
      "text/plain": [
       "Counter({0: 73, 1: 73})"
      ]
     },
     "execution_count": 43,
     "metadata": {},
     "output_type": "execute_result"
    }
   ],
   "source": [
    "Counter(iq_y_val_resampled)"
   ]
  },
  {
   "cell_type": "code",
   "execution_count": null,
   "metadata": {},
   "outputs": [],
   "source": []
  },
  {
   "cell_type": "code",
   "execution_count": null,
   "metadata": {},
   "outputs": [],
   "source": []
  },
  {
   "cell_type": "code",
   "execution_count": 44,
   "metadata": {
    "ExecuteTime": {
     "end_time": "2019-09-12T15:11:07.900291Z",
     "start_time": "2019-09-12T15:11:07.533127Z"
    }
   },
   "outputs": [],
   "source": [
    "rf_iq = RandomForestClassifier(n_estimators=400, min_samples_split=10, min_samples_leaf=4, \n",
    "                               max_features='auto', max_depth=70, bootstrap=True)\n",
    "rf_iq_fit = rf_iq.fit(iq_X_train_mm_resampled, iq_y_train_resampled)\n",
    "rf_iq_predict = rf_iq_fit.predict(iq_X_val_mm_resampled)"
   ]
  },
  {
   "cell_type": "code",
   "execution_count": 45,
   "metadata": {
    "ExecuteTime": {
     "end_time": "2019-09-12T15:11:11.346919Z",
     "start_time": "2019-09-12T15:11:09.800635Z"
    }
   },
   "outputs": [
    {
     "name": "stdout",
     "output_type": "stream",
     "text": [
      "0.9497611084567608\n"
     ]
    }
   ],
   "source": [
    "kf = KFold(n_splits=5, shuffle=True, random_state=42)\n",
    "print(np.mean(cross_val_score(rf_iq, iq_X_train_mm_resampled, iq_y_train_resampled, cv=kf)))"
   ]
  },
  {
   "cell_type": "code",
   "execution_count": 46,
   "metadata": {
    "ExecuteTime": {
     "end_time": "2019-09-12T15:11:13.213782Z",
     "start_time": "2019-09-12T15:11:13.208466Z"
    }
   },
   "outputs": [
    {
     "name": "stdout",
     "output_type": "stream",
     "text": [
      "Recall:  0.0\n",
      "Accuracy:  0.4794520547945205\n",
      "\n",
      "[[70  3]\n",
      " [73  0]]\n"
     ]
    }
   ],
   "source": [
    "scores(iq_y_val_resampled, rf_iq_predict)"
   ]
  },
  {
   "cell_type": "code",
   "execution_count": 47,
   "metadata": {
    "ExecuteTime": {
     "end_time": "2019-09-12T15:11:16.459506Z",
     "start_time": "2019-09-12T15:11:16.273714Z"
    }
   },
   "outputs": [
    {
     "data": {
      "application/vnd.jupyter.widget-view+json": {
       "model_id": "0656fe8b581c4d1e88b915f25ff128c2",
       "version_major": 2,
       "version_minor": 0
      },
      "text/plain": [
       "interactive(children=(FloatSlider(value=0.5, description='threshold', max=1.0, step=0.02), Output()), _dom_cla…"
      ]
     },
     "metadata": {},
     "output_type": "display_data"
    }
   ],
   "source": [
    "interactive(lambda threshold: make_confusion_matrix(rf_iq, iq_X_val_mm_resampled, iq_y_val_resampled, threshold), threshold=(0.0,1.0,0.02))"
   ]
  },
  {
   "cell_type": "code",
   "execution_count": 53,
   "metadata": {
    "ExecuteTime": {
     "end_time": "2019-09-12T15:13:31.491516Z",
     "start_time": "2019-09-12T15:13:31.457802Z"
    }
   },
   "outputs": [],
   "source": [
    "iq_predictions = rf_iq_fit.predict_proba(iq_X_test_mm)[:,1]\n",
    "iq_predict_final = np.where(iq_predictions > 0.2, 1, 0)"
   ]
  },
  {
   "cell_type": "code",
   "execution_count": 54,
   "metadata": {
    "ExecuteTime": {
     "end_time": "2019-09-12T15:13:33.430433Z",
     "start_time": "2019-09-12T15:13:33.424382Z"
    }
   },
   "outputs": [
    {
     "name": "stdout",
     "output_type": "stream",
     "text": [
      "Recall:  0.5625\n",
      "Accuracy:  0.5666666666666667\n",
      "\n",
      "[[42 32]\n",
      " [ 7  9]]\n"
     ]
    }
   ],
   "source": [
    "scores(iq_y_test, iq_predict_final)"
   ]
  },
  {
   "cell_type": "code",
   "execution_count": null,
   "metadata": {},
   "outputs": [],
   "source": []
  },
  {
   "cell_type": "code",
   "execution_count": null,
   "metadata": {},
   "outputs": [],
   "source": []
  },
  {
   "cell_type": "code",
   "execution_count": null,
   "metadata": {},
   "outputs": [],
   "source": []
  },
  {
   "cell_type": "code",
   "execution_count": null,
   "metadata": {},
   "outputs": [],
   "source": []
  },
  {
   "cell_type": "code",
   "execution_count": null,
   "metadata": {},
   "outputs": [],
   "source": []
  },
  {
   "cell_type": "code",
   "execution_count": null,
   "metadata": {},
   "outputs": [],
   "source": []
  },
  {
   "cell_type": "code",
   "execution_count": 57,
   "metadata": {
    "ExecuteTime": {
     "end_time": "2019-09-12T15:17:47.613519Z",
     "start_time": "2019-09-12T15:17:47.606348Z"
    }
   },
   "outputs": [],
   "source": [
    "rf_iq = DecisionTreeClassifier()\n",
    "rf_iq_fit = rf_iq.fit(iq_X_train_mm_resampled, iq_y_train_resampled)\n",
    "rf_iq_predict = rf_iq_fit.predict(iq_X_val_mm_resampled)"
   ]
  },
  {
   "cell_type": "code",
   "execution_count": 58,
   "metadata": {
    "ExecuteTime": {
     "end_time": "2019-09-12T15:17:49.554584Z",
     "start_time": "2019-09-12T15:17:49.536393Z"
    }
   },
   "outputs": [
    {
     "name": "stdout",
     "output_type": "stream",
     "text": [
      "0.9126612517916864\n"
     ]
    }
   ],
   "source": [
    "kf = KFold(n_splits=5, shuffle=True, random_state=42)\n",
    "print(np.mean(cross_val_score(rf_iq, iq_X_train_mm_resampled, iq_y_train_resampled, cv=kf)))"
   ]
  },
  {
   "cell_type": "code",
   "execution_count": 59,
   "metadata": {
    "ExecuteTime": {
     "end_time": "2019-09-12T15:17:51.478368Z",
     "start_time": "2019-09-12T15:17:51.472916Z"
    }
   },
   "outputs": [
    {
     "name": "stdout",
     "output_type": "stream",
     "text": [
      "Recall:  0.0958904109589041\n",
      "Accuracy:  0.5068493150684932\n",
      "\n",
      "[[67  6]\n",
      " [66  7]]\n"
     ]
    }
   ],
   "source": [
    "scores(iq_y_val_resampled, rf_iq_predict)"
   ]
  },
  {
   "cell_type": "code",
   "execution_count": 64,
   "metadata": {
    "ExecuteTime": {
     "end_time": "2019-09-12T15:20:56.969948Z",
     "start_time": "2019-09-12T15:20:56.963974Z"
    }
   },
   "outputs": [
    {
     "name": "stdout",
     "output_type": "stream",
     "text": [
      "ndvi_ne  0.0\n",
      "ndvi_nw  0.020042692545024103\n",
      "ndvi_se  0.0\n",
      "ndvi_sw  0.22617420269433203\n",
      "precipitation_amt_mm  0.029112081513828235\n",
      "reanalysis_air_temp_k  0.030335165088071193\n",
      "reanalysis_avg_temp_k  0.011644832605531294\n",
      "reanalysis_dew_point_temp_k  0.0\n",
      "reanalysis_max_air_temp_k  0.005109467367733115\n",
      "reanalysis_min_air_temp_k  0.019606707158301342\n",
      "reanalysis_precip_amt_kg_per_m2  0.1838375511608738\n",
      "reanalysis_relative_humidity_percent  0.08474089672115118\n",
      "reanalysis_sat_precip_amt_mm  0.06539287799528672\n",
      "reanalysis_specific_humidity_g_per_kg  0.007874520987434281\n",
      "reanalysis_tdtr_k  0.0\n",
      "station_avg_temp_c  0.06570652782443175\n",
      "station_diur_temp_rng_c  0.0821302369801652\n",
      "station_max_temp_c  0.036848098319183974\n",
      "station_min_temp_c  0.05766636727080266\n",
      "station_precip_mm  0.07377777376784922\n",
      "q*Td  0.0\n"
     ]
    }
   ],
   "source": [
    "coefs = []\n",
    "for i in rf_iq_fit.feature_importances_:\n",
    "    coefs.append(i)\n",
    "    \n",
    "labels = []\n",
    "for i in iq_X_train.columns:\n",
    "    labels.append(i)\n",
    "    \n",
    "for label, coef in zip(labels, coefs):\n",
    "    print(str(label) + \"  \" + str(coef))"
   ]
  },
  {
   "cell_type": "code",
   "execution_count": null,
   "metadata": {
    "ExecuteTime": {
     "end_time": "2019-09-12T15:20:12.174628Z",
     "start_time": "2019-09-12T15:20:12.116143Z"
    }
   },
   "outputs": [],
   "source": []
  },
  {
   "cell_type": "code",
   "execution_count": null,
   "metadata": {},
   "outputs": [],
   "source": []
  },
  {
   "cell_type": "code",
   "execution_count": null,
   "metadata": {},
   "outputs": [],
   "source": []
  },
  {
   "cell_type": "code",
   "execution_count": null,
   "metadata": {},
   "outputs": [],
   "source": []
  },
  {
   "cell_type": "code",
   "execution_count": null,
   "metadata": {},
   "outputs": [],
   "source": []
  },
  {
   "cell_type": "code",
   "execution_count": null,
   "metadata": {},
   "outputs": [],
   "source": []
  },
  {
   "cell_type": "code",
   "execution_count": 26,
   "metadata": {
    "ExecuteTime": {
     "end_time": "2019-09-12T15:01:43.116496Z",
     "start_time": "2019-09-12T15:01:43.108846Z"
    }
   },
   "outputs": [],
   "source": [
    "rf = RandomForestClassifier()\n",
    "# Number of trees in random forest\n",
    "n_estimators = [int(x) for x in np.linspace(start = 200, stop = 2000, num = 10)]\n",
    "# Number of features to consider at every split\n",
    "max_features = ['auto', 'sqrt']\n",
    "# Maximum number of levels in tree\n",
    "max_depth = [int(x) for x in np.linspace(10, 110, num = 11)]\n",
    "max_depth.append(None)\n",
    "# Minimum number of samples required to split a node\n",
    "min_samples_split = [2, 5, 10]\n",
    "# Minimum number of samples required at each leaf node\n",
    "min_samples_leaf = [1, 2, 4]\n",
    "# Method of selecting samples for training each tree\n",
    "bootstrap = [True, False]\n",
    "# Create the random grid\n",
    "random_grid = {'n_estimators': n_estimators,\n",
    "               'max_features': max_features,\n",
    "               'max_depth': max_depth,\n",
    "               'min_samples_split': min_samples_split,\n",
    "               'min_samples_leaf': min_samples_leaf,\n",
    "               'bootstrap': bootstrap}"
   ]
  },
  {
   "cell_type": "code",
   "execution_count": 27,
   "metadata": {
    "ExecuteTime": {
     "end_time": "2019-09-12T15:01:45.640873Z",
     "start_time": "2019-09-12T15:01:45.637821Z"
    }
   },
   "outputs": [],
   "source": [
    "rf_random = RandomizedSearchCV(estimator = rf, param_distributions = random_grid, \n",
    "                               n_iter = 100, cv = 3, verbose=2, random_state=42, n_jobs = -1)"
   ]
  },
  {
   "cell_type": "code",
   "execution_count": 28,
   "metadata": {
    "ExecuteTime": {
     "end_time": "2019-09-12T15:02:42.439225Z",
     "start_time": "2019-09-12T15:01:47.568822Z"
    }
   },
   "outputs": [
    {
     "name": "stdout",
     "output_type": "stream",
     "text": [
      "Fitting 3 folds for each of 100 candidates, totalling 300 fits\n"
     ]
    },
    {
     "name": "stderr",
     "output_type": "stream",
     "text": [
      "[Parallel(n_jobs=-1)]: Using backend LokyBackend with 12 concurrent workers.\n",
      "[Parallel(n_jobs=-1)]: Done  17 tasks      | elapsed:    5.2s\n",
      "[Parallel(n_jobs=-1)]: Done 138 tasks      | elapsed:   24.7s\n",
      "[Parallel(n_jobs=-1)]: Done 300 out of 300 | elapsed:   54.4s finished\n"
     ]
    },
    {
     "data": {
      "text/plain": [
       "RandomizedSearchCV(cv=3, error_score='raise-deprecating',\n",
       "                   estimator=RandomForestClassifier(bootstrap=True,\n",
       "                                                    class_weight=None,\n",
       "                                                    criterion='gini',\n",
       "                                                    max_depth=None,\n",
       "                                                    max_features='auto',\n",
       "                                                    max_leaf_nodes=None,\n",
       "                                                    min_impurity_decrease=0.0,\n",
       "                                                    min_impurity_split=None,\n",
       "                                                    min_samples_leaf=1,\n",
       "                                                    min_samples_split=2,\n",
       "                                                    min_weight_fraction_leaf=0.0,\n",
       "                                                    n_estimators='warn',\n",
       "                                                    n_jobs=None,\n",
       "                                                    oob_sc...\n",
       "                   param_distributions={'bootstrap': [True, False],\n",
       "                                        'max_depth': [10, 20, 30, 40, 50, 60,\n",
       "                                                      70, 80, 90, 100, 110,\n",
       "                                                      None],\n",
       "                                        'max_features': ['auto', 'sqrt'],\n",
       "                                        'min_samples_leaf': [1, 2, 4],\n",
       "                                        'min_samples_split': [2, 5, 10],\n",
       "                                        'n_estimators': [200, 400, 600, 800,\n",
       "                                                         1000, 1200, 1400, 1600,\n",
       "                                                         1800, 2000]},\n",
       "                   pre_dispatch='2*n_jobs', random_state=42, refit=True,\n",
       "                   return_train_score=False, scoring=None, verbose=2)"
      ]
     },
     "execution_count": 28,
     "metadata": {},
     "output_type": "execute_result"
    }
   ],
   "source": [
    "rf_random.fit(iq_X_train_mm, iq_y_train)"
   ]
  },
  {
   "cell_type": "code",
   "execution_count": null,
   "metadata": {
    "ExecuteTime": {
     "end_time": "2019-09-12T14:54:43.651270Z",
     "start_time": "2019-09-12T14:54:43.647751Z"
    }
   },
   "outputs": [],
   "source": []
  },
  {
   "cell_type": "code",
   "execution_count": null,
   "metadata": {},
   "outputs": [],
   "source": []
  }
 ],
 "metadata": {
  "kernelspec": {
   "display_name": "Python [conda env:metis] *",
   "language": "python",
   "name": "conda-env-metis-py"
  },
  "language_info": {
   "codemirror_mode": {
    "name": "ipython",
    "version": 3
   },
   "file_extension": ".py",
   "mimetype": "text/x-python",
   "name": "python",
   "nbconvert_exporter": "python",
   "pygments_lexer": "ipython3",
   "version": "3.6.8"
  },
  "toc": {
   "base_numbering": 1,
   "nav_menu": {},
   "number_sections": true,
   "sideBar": true,
   "skip_h1_title": false,
   "title_cell": "Table of Contents",
   "title_sidebar": "Contents",
   "toc_cell": false,
   "toc_position": {},
   "toc_section_display": true,
   "toc_window_display": false
  },
  "varInspector": {
   "cols": {
    "lenName": 16,
    "lenType": 16,
    "lenVar": 40
   },
   "kernels_config": {
    "python": {
     "delete_cmd_postfix": "",
     "delete_cmd_prefix": "del ",
     "library": "var_list.py",
     "varRefreshCmd": "print(var_dic_list())"
    },
    "r": {
     "delete_cmd_postfix": ") ",
     "delete_cmd_prefix": "rm(",
     "library": "var_list.r",
     "varRefreshCmd": "cat(var_dic_list()) "
    }
   },
   "types_to_exclude": [
    "module",
    "function",
    "builtin_function_or_method",
    "instance",
    "_Feature"
   ],
   "window_display": false
  }
 },
 "nbformat": 4,
 "nbformat_minor": 2
}
